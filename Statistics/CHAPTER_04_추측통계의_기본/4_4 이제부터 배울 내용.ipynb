{
 "cells": [
  {
   "cell_type": "markdown",
   "source": [
    "5~9 챕터에서는 확률변수의 정의와 대표적인 확률분포에 관해서 다룬다.\n",
    "확률은 추측통계에서 매우 중요한 도구이지만, 확정되지 않은 추상적인 것을 다루므로 이미지를 떠올리기 어려분 분야다.\n",
    "그러나 파이썬을 이용해 확률을 빼울 때 가장 큰 장점은 시뮬레이션을 해볼 수 있다는 점이다.\n",
    "\n",
    "본격적인 추측통계는 10~12 챕터에서 다룬다. 추측통계는 쿠게 추정과 검정으로 나눌 수 있다.\n",
    "\n",
    "**추정**(estimation)이란 모수를 추측하는 것이다. 하나의 값으로 추정하는 것을 **점추정**, 구간으로 추정하는 것을 **구간추정**이라고 부른다.\n",
    "\n",
    "**검정**(test)은 모집단의 통계적 성질에 대해 가성르 세우고, 그 가설이 옳은지 여부를 판단하는 기법이다."
   ],
   "metadata": {
    "collapsed": false,
    "pycharm": {
     "name": "#%% md\n"
    }
   }
  }
 ],
 "metadata": {
  "kernelspec": {
   "display_name": "Python 3",
   "language": "python",
   "name": "python3"
  },
  "language_info": {
   "codemirror_mode": {
    "name": "ipython",
    "version": 2
   },
   "file_extension": ".py",
   "mimetype": "text/x-python",
   "name": "python",
   "nbconvert_exporter": "python",
   "pygments_lexer": "ipython2",
   "version": "2.7.6"
  }
 },
 "nbformat": 4,
 "nbformat_minor": 0
}