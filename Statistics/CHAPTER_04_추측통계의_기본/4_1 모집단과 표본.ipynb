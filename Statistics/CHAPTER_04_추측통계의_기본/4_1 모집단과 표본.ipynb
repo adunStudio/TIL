{
 "cells": [
  {
   "cell_type": "markdown",
   "source": [
    "일부 데이터로부터 전체의 통계적 성질을 추측하는 방식이 **추측통계**다.\n",
    "추측통계와 비교하여 2,3장에서 다룬 통계를 **기술통계**라고 한다."
   ],
   "metadata": {
    "collapsed": false,
    "pycharm": {
     "name": "#%% md\n"
    }
   }
  },
  {
   "cell_type": "code",
   "execution_count": 3,
   "outputs": [
    {
     "data": {
      "text/plain": "   score\n0     76\n1     55\n2     80\n3     80\n4     74\n5     61\n6     81\n7     76\n8     23\n9     80",
      "text/html": "<div>\n<style scoped>\n    .dataframe tbody tr th:only-of-type {\n        vertical-align: middle;\n    }\n\n    .dataframe tbody tr th {\n        vertical-align: top;\n    }\n\n    .dataframe thead th {\n        text-align: right;\n    }\n</style>\n<table border=\"1\" class=\"dataframe\">\n  <thead>\n    <tr style=\"text-align: right;\">\n      <th></th>\n      <th>score</th>\n    </tr>\n  </thead>\n  <tbody>\n    <tr>\n      <th>0</th>\n      <td>76</td>\n    </tr>\n    <tr>\n      <th>1</th>\n      <td>55</td>\n    </tr>\n    <tr>\n      <th>2</th>\n      <td>80</td>\n    </tr>\n    <tr>\n      <th>3</th>\n      <td>80</td>\n    </tr>\n    <tr>\n      <th>4</th>\n      <td>74</td>\n    </tr>\n    <tr>\n      <th>5</th>\n      <td>61</td>\n    </tr>\n    <tr>\n      <th>6</th>\n      <td>81</td>\n    </tr>\n    <tr>\n      <th>7</th>\n      <td>76</td>\n    </tr>\n    <tr>\n      <th>8</th>\n      <td>23</td>\n    </tr>\n    <tr>\n      <th>9</th>\n      <td>80</td>\n    </tr>\n  </tbody>\n</table>\n</div>"
     },
     "execution_count": 3,
     "metadata": {},
     "output_type": "execute_result"
    }
   ],
   "source": [
    "import numpy as np\n",
    "import pandas as pd\n",
    "import matplotlib.pyplot as plt\n",
    "\n",
    "%precision 3\n",
    "%matplotlib inline\n",
    "\n",
    "df = pd.read_csv(\"../data/ch4_scores400.csv\")\n",
    "scores = np.array(df[\"score\"])\n",
    "df[:10]"
   ],
   "metadata": {
    "collapsed": false,
    "pycharm": {
     "name": "#%%\n"
    }
   }
  },
  {
   "cell_type": "markdown",
   "source": [
    "# 4.1 모집단과 표본\n",
    "추측통계에서는 관측 대상 전체의 통계적 성질을 그 관측 대상의 일부분만 사용하여 추츨한다. 이때, 추측하고 싶은 관측 대상 전체를 **모집단**(population)이라 하고, 추측에 사용하는 관측 대상의 일부부분을 **표본**(sample)이라 한다. 또 모집단에서 표본을 골라내는 일을 **표본추출**(sampling)이라 하고, 골라낸 표본의 수를 **표본 크기** 또는 **샘플 사이즈**라고 한다.\n",
    "\n",
    "표본을 바탕으로 계산한 평균이나 분산, 상관계수 등을 **표본통계량**이라 하고, 모집단의 평균이나 분산, 상관계수 등을 **모수**라고 한다. 표본의 평균을 포본평균, 모집단의 평균을 모평균 등으로 부르는 경우도 있다.\n",
    "\n",
    "표본평균으로 모평균을 추측할 때, 표본평균은 모평균의 **추정량**(estimator)이라고 한다. 그리고 실제로 표본의 데이터를 이용하여 계산한 결과를 **추정값**(estimate)라고 한다."
   ],
   "metadata": {
    "collapsed": false,
    "pycharm": {
     "name": "#%% md\n"
    }
   }
  },
  {
   "cell_type": "markdown",
   "source": [
    "## 4.1.1 표본추출 방법\n",
    "\n",
    "학교 전체의 평균 점수를 잘 추측하려면 어떻게 해서든 다양한 학년의 학생들, 여러 동아리에서 활동하는 학생들, 다양한 취미 생활을 하는 학생들에게 점수를 물어서 편향되지 않는 것이 중요하다. 이를 위해 표본을 '우연히 만나는' 학생들에게 모음으로써 표본 추출이 편항되지 않도록 미리 작전을 세울 수 있다. 이처럼 임의로 표본을 추출하는 방법을 **무작위추출**(random sampling)이라고 한다.\n",
    "\n",
    "무작위추출이 표본을 추출할 때 편향을 없애는 방법이긴 하지만, 그 결과로 편향이 있는 데이터를 얻을 수 있다는 점도 주의해야 한다. 즉, '우연히 만난 사람'이 공교롭게도 전부 3학년일 수 있다. 그런 데이터를 얻게되면 다시 한 번 무작위추출을 하고 싶겠지만, 그렇게 하면 작위적이 추측이 되고 만다.\n",
    "\n",
    "한편 '우연히 만나는' 방법을 썻을 때 같은 사람에게 여러 번 시험 결과를 들을 가능성도 있다. 이처럼 여러 차례 동일한 표본을 선택하는 추출 방법을 **복원추출**(sampling with replacement)라고 하고, 동일한 표본을 한 번만 선택하는 방법을 **비복원추출**(sampling without replacement)라고 한다."
   ],
   "metadata": {
    "collapsed": false,
    "pycharm": {
     "name": "#%% md\n"
    }
   }
  },
  {
   "cell_type": "code",
   "execution_count": 4,
   "outputs": [
    {
     "data": {
      "text/plain": "array([1, 3, 3])"
     },
     "execution_count": 4,
     "metadata": {},
     "output_type": "execute_result"
    }
   ],
   "source": [
    "# 파이썬에서 무작위추출에서는 np.random.choice 함수가 사용된다.\n",
    "# np.random.choice 함수는 기본 설정으로 복원추출을 수행한다.\n",
    "np.random.choice([1, 2, 3], 3)"
   ],
   "metadata": {
    "collapsed": false,
    "pycharm": {
     "name": "#%%\n"
    }
   }
  },
  {
   "cell_type": "code",
   "execution_count": 5,
   "outputs": [
    {
     "data": {
      "text/plain": "array([3, 1, 2])"
     },
     "execution_count": 5,
     "metadata": {},
     "output_type": "execute_result"
    }
   ],
   "source": [
    "# 비복원추출\n",
    "np.random.choice([1, 2, 3], 3, replace=False)"
   ],
   "metadata": {
    "collapsed": false,
    "pycharm": {
     "name": "#%%\n"
    }
   }
  },
  {
   "cell_type": "code",
   "execution_count": 6,
   "outputs": [
    {
     "data": {
      "text/plain": "70.400"
     },
     "execution_count": 6,
     "metadata": {},
     "output_type": "execute_result"
    }
   ],
   "source": [
    "# 무작위추출 뒤 표본평균 계산\n",
    "np.random.seed(0)\n",
    "sample = np.random.choice(scores, 20)\n",
    "sample.mean()"
   ],
   "metadata": {
    "collapsed": false,
    "pycharm": {
     "name": "#%%\n"
    }
   }
  },
  {
   "cell_type": "code",
   "execution_count": 7,
   "outputs": [
    {
     "data": {
      "text/plain": "69.530"
     },
     "execution_count": 7,
     "metadata": {},
     "output_type": "execute_result"
    }
   ],
   "source": [
    "# 모평균 계산\n",
    "scores.mean()"
   ],
   "metadata": {
    "collapsed": false,
    "pycharm": {
     "name": "#%%\n"
    }
   }
  },
  {
   "cell_type": "code",
   "execution_count": 8,
   "outputs": [
    {
     "name": "stdout",
     "output_type": "stream",
     "text": [
      "1번째 무작위 추출로 얻은 표본평균 72.45\n",
      "2번째 무작위 추출로 얻은 표본평균 63.7\n",
      "3번째 무작위 추출로 얻은 표본평균 66.05\n",
      "4번째 무작위 추출로 얻은 표본평균 71.7\n",
      "5번째 무작위 추출로 얻은 표본평균 74.15\n"
     ]
    }
   ],
   "source": [
    "for i in range(5):\n",
    "    sample = np.random.choice(scores, 20)\n",
    "    print(f\"{i+1}번째 무작위 추출로 얻은 표본평균\", sample.mean())"
   ],
   "metadata": {
    "collapsed": false,
    "pycharm": {
     "name": "#%%\n"
    }
   }
  }
 ],
 "metadata": {
  "kernelspec": {
   "display_name": "Python 3",
   "language": "python",
   "name": "python3"
  },
  "language_info": {
   "codemirror_mode": {
    "name": "ipython",
    "version": 2
   },
   "file_extension": ".py",
   "mimetype": "text/x-python",
   "name": "python",
   "nbconvert_exporter": "python",
   "pygments_lexer": "ipython2",
   "version": "2.7.6"
  }
 },
 "nbformat": 4,
 "nbformat_minor": 0
}