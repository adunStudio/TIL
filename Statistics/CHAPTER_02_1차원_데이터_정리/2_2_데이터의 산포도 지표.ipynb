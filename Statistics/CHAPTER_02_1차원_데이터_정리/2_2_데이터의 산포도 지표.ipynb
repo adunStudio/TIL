{
 "cells": [
  {
   "cell_type": "code",
   "execution_count": 1,
   "outputs": [
    {
     "data": {
      "text/plain": "                english  mathematics\nstudent number                      \n1                    42           65\n2                    69           80\n3                    56           63\n4                    41           63\n5                    57           76\n6                    48           60\n7                    65           81\n8                    49           66\n9                    65           78\n10                   58           82\n11                   70           94\n12                   47           75\n13                   51           70\n14                   64           77\n15                   62           84\n16                   70           84\n17                   71           82\n18                   68           85\n19                   73           90\n20                   37           70\n21                   65           78\n22                   65           93\n23                   61           77\n24                   52           88\n25                   57           82\n26                   57           76\n27                   75           87\n28                   61           84\n29                   47           77\n30                   54           82\n31                   66           91\n32                   54           75\n33                   54           76\n34                   42           78\n35                   37           57\n36                   79           89\n37                   56           83\n38                   62           69\n39                   62           86\n40                   55           81\n41                   63           81\n42                   57           80\n43                   57           79\n44                   67           87\n45                   55           84\n46                   45           71\n47                   66           80\n48                   55           77\n49                   64           83\n50                   66           88",
      "text/html": "<div>\n<style scoped>\n    .dataframe tbody tr th:only-of-type {\n        vertical-align: middle;\n    }\n\n    .dataframe tbody tr th {\n        vertical-align: top;\n    }\n\n    .dataframe thead th {\n        text-align: right;\n    }\n</style>\n<table border=\"1\" class=\"dataframe\">\n  <thead>\n    <tr style=\"text-align: right;\">\n      <th></th>\n      <th>english</th>\n      <th>mathematics</th>\n    </tr>\n    <tr>\n      <th>student number</th>\n      <th></th>\n      <th></th>\n    </tr>\n  </thead>\n  <tbody>\n    <tr>\n      <th>1</th>\n      <td>42</td>\n      <td>65</td>\n    </tr>\n    <tr>\n      <th>2</th>\n      <td>69</td>\n      <td>80</td>\n    </tr>\n    <tr>\n      <th>3</th>\n      <td>56</td>\n      <td>63</td>\n    </tr>\n    <tr>\n      <th>4</th>\n      <td>41</td>\n      <td>63</td>\n    </tr>\n    <tr>\n      <th>5</th>\n      <td>57</td>\n      <td>76</td>\n    </tr>\n    <tr>\n      <th>6</th>\n      <td>48</td>\n      <td>60</td>\n    </tr>\n    <tr>\n      <th>7</th>\n      <td>65</td>\n      <td>81</td>\n    </tr>\n    <tr>\n      <th>8</th>\n      <td>49</td>\n      <td>66</td>\n    </tr>\n    <tr>\n      <th>9</th>\n      <td>65</td>\n      <td>78</td>\n    </tr>\n    <tr>\n      <th>10</th>\n      <td>58</td>\n      <td>82</td>\n    </tr>\n    <tr>\n      <th>11</th>\n      <td>70</td>\n      <td>94</td>\n    </tr>\n    <tr>\n      <th>12</th>\n      <td>47</td>\n      <td>75</td>\n    </tr>\n    <tr>\n      <th>13</th>\n      <td>51</td>\n      <td>70</td>\n    </tr>\n    <tr>\n      <th>14</th>\n      <td>64</td>\n      <td>77</td>\n    </tr>\n    <tr>\n      <th>15</th>\n      <td>62</td>\n      <td>84</td>\n    </tr>\n    <tr>\n      <th>16</th>\n      <td>70</td>\n      <td>84</td>\n    </tr>\n    <tr>\n      <th>17</th>\n      <td>71</td>\n      <td>82</td>\n    </tr>\n    <tr>\n      <th>18</th>\n      <td>68</td>\n      <td>85</td>\n    </tr>\n    <tr>\n      <th>19</th>\n      <td>73</td>\n      <td>90</td>\n    </tr>\n    <tr>\n      <th>20</th>\n      <td>37</td>\n      <td>70</td>\n    </tr>\n    <tr>\n      <th>21</th>\n      <td>65</td>\n      <td>78</td>\n    </tr>\n    <tr>\n      <th>22</th>\n      <td>65</td>\n      <td>93</td>\n    </tr>\n    <tr>\n      <th>23</th>\n      <td>61</td>\n      <td>77</td>\n    </tr>\n    <tr>\n      <th>24</th>\n      <td>52</td>\n      <td>88</td>\n    </tr>\n    <tr>\n      <th>25</th>\n      <td>57</td>\n      <td>82</td>\n    </tr>\n    <tr>\n      <th>26</th>\n      <td>57</td>\n      <td>76</td>\n    </tr>\n    <tr>\n      <th>27</th>\n      <td>75</td>\n      <td>87</td>\n    </tr>\n    <tr>\n      <th>28</th>\n      <td>61</td>\n      <td>84</td>\n    </tr>\n    <tr>\n      <th>29</th>\n      <td>47</td>\n      <td>77</td>\n    </tr>\n    <tr>\n      <th>30</th>\n      <td>54</td>\n      <td>82</td>\n    </tr>\n    <tr>\n      <th>31</th>\n      <td>66</td>\n      <td>91</td>\n    </tr>\n    <tr>\n      <th>32</th>\n      <td>54</td>\n      <td>75</td>\n    </tr>\n    <tr>\n      <th>33</th>\n      <td>54</td>\n      <td>76</td>\n    </tr>\n    <tr>\n      <th>34</th>\n      <td>42</td>\n      <td>78</td>\n    </tr>\n    <tr>\n      <th>35</th>\n      <td>37</td>\n      <td>57</td>\n    </tr>\n    <tr>\n      <th>36</th>\n      <td>79</td>\n      <td>89</td>\n    </tr>\n    <tr>\n      <th>37</th>\n      <td>56</td>\n      <td>83</td>\n    </tr>\n    <tr>\n      <th>38</th>\n      <td>62</td>\n      <td>69</td>\n    </tr>\n    <tr>\n      <th>39</th>\n      <td>62</td>\n      <td>86</td>\n    </tr>\n    <tr>\n      <th>40</th>\n      <td>55</td>\n      <td>81</td>\n    </tr>\n    <tr>\n      <th>41</th>\n      <td>63</td>\n      <td>81</td>\n    </tr>\n    <tr>\n      <th>42</th>\n      <td>57</td>\n      <td>80</td>\n    </tr>\n    <tr>\n      <th>43</th>\n      <td>57</td>\n      <td>79</td>\n    </tr>\n    <tr>\n      <th>44</th>\n      <td>67</td>\n      <td>87</td>\n    </tr>\n    <tr>\n      <th>45</th>\n      <td>55</td>\n      <td>84</td>\n    </tr>\n    <tr>\n      <th>46</th>\n      <td>45</td>\n      <td>71</td>\n    </tr>\n    <tr>\n      <th>47</th>\n      <td>66</td>\n      <td>80</td>\n    </tr>\n    <tr>\n      <th>48</th>\n      <td>55</td>\n      <td>77</td>\n    </tr>\n    <tr>\n      <th>49</th>\n      <td>64</td>\n      <td>83</td>\n    </tr>\n    <tr>\n      <th>50</th>\n      <td>66</td>\n      <td>88</td>\n    </tr>\n  </tbody>\n</table>\n</div>"
     },
     "execution_count": 1,
     "metadata": {},
     "output_type": "execute_result"
    }
   ],
   "source": [
    "import numpy as np\n",
    "import pandas as pd\n",
    "\n",
    "\n",
    "# 쥬피터와 DataFrame의 출력을 소수점 이하 3자리로 제한\n",
    "%precision 3\n",
    "pd.set_option(\"display.precision\", 3)\n",
    "\n",
    "df = pd.read_csv(\"../data/ch2_scores_em.csv\", index_col=\"student number\")\n",
    "scores = np.array(df[\"english\"])[:10]\n",
    "scores_df = pd.DataFrame({'score': scores}, index=pd.Index(['A', 'B', 'C', 'D', 'E', 'F', 'G', 'H', 'I', 'J'], name=\"student\"))"
   ],
   "metadata": {
    "collapsed": false,
    "pycharm": {
     "name": "#%%\n"
    }
   }
  },
  {
   "cell_type": "markdown",
   "source": [
    "# 2.2 데이터의 산포도 지표\n",
    "평균값이나 중앙값으로 데이터를 대표하는 값을 얻는 방법은 이해했다. 그러나 다음과 같은 경우를 가정해보자. 학급 전원이 50점을 받은 시험이 있고, 학급에서 절반은 0점을 받았지만 나머지 절반은 100점을 받은 시험이 있다.\n",
    "결과는 완전히 다르지만 두 경우 모두 평균값과 중앙값은 도잉ㄹ하게 50점이 되어버린다.\n",
    "전자는 개개인의 점수가 모여 있고, 후자는 개개인의 점수가 심하게 흩어져 잇는 이미지를 떠올릴 수 있다.\n",
    "이와 같은 데이터의 산포도를 수치로 표현하려면 어떻게 해야 할까?"
   ],
   "metadata": {
    "collapsed": false,
    "pycharm": {
     "name": "#%% md\n"
    }
   }
  },
  {
   "cell_type": "markdown",
   "source": [],
   "metadata": {
    "collapsed": false,
    "pycharm": {
     "name": "#%% md\n"
    }
   }
  },
  {
   "cell_type": "markdown",
   "source": [
    "## 2.2.1 분산과 표준편차\n",
    "### 편차\n",
    "산포도를 구하는 첫걸은 **편차(deviation)**를 알아보는 것이다. 편차는 각 데이터가 평균으로부터 어느 정도 떨어져 있는가를 나타내는 지표다.\n",
    "예를 들어, A학생의 점수가 42점이고, 학생 10명의 평균 점수가 55점이라면, A학생의 편차는 42-55로 -13이 된다."
   ],
   "metadata": {
    "collapsed": false,
    "pycharm": {
     "name": "#%% md\n"
    }
   }
  },
  {
   "cell_type": "code",
   "execution_count": 4,
   "outputs": [
    {
     "data": {
      "text/plain": "array([-13.,  14.,   1., -14.,   2.,  -7.,  10.,  -6.,  10.,   3.])"
     },
     "execution_count": 4,
     "metadata": {},
     "output_type": "execute_result"
    }
   ],
   "source": [
    "mean = np.mean(scores)\n",
    "deviation = scores - mean\n",
    "deviation"
   ],
   "metadata": {
    "collapsed": false,
    "pycharm": {
     "name": "#%%\n"
    }
   }
  },
  {
   "cell_type": "code",
   "execution_count": 5,
   "outputs": [
    {
     "data": {
      "text/plain": "array([-5.,  5.,  3., -1., -4.,  1.,  2., -2., -3.,  4.])"
     },
     "execution_count": 5,
     "metadata": {},
     "output_type": "execute_result"
    }
   ],
   "source": [
    "# 다른 시험의 결과도 보자 평균값은 마찬가지로 55점이다.\n",
    "another_scores = [50, 60, 58, 54, 51, 56, 57, 53, 52, 59]\n",
    "another_mean = np.mean(another_scores)\n",
    "another_deviation = another_scores - another_mean\n",
    "another_deviation"
   ],
   "metadata": {
    "collapsed": false,
    "pycharm": {
     "name": "#%%\n"
    }
   }
  },
  {
   "cell_type": "code",
   "execution_count": 6,
   "outputs": [
    {
     "data": {
      "text/plain": "0.000"
     },
     "execution_count": 6,
     "metadata": {},
     "output_type": "execute_result"
    }
   ],
   "source": [
    "np.mean(deviation)\n",
    "np.mean(another_deviation)\n",
    "\n",
    "# 편차 평균은 항상 0이 된다."
   ],
   "metadata": {
    "collapsed": false,
    "pycharm": {
     "name": "#%%\n"
    }
   }
  },
  {
   "cell_type": "code",
   "execution_count": 7,
   "outputs": [
    {
     "data": {
      "text/plain": "         score  deviation\nstudent                  \nA           42      -13.0\nB           69       14.0\nC           56        1.0\nD           41      -14.0\nE           57        2.0\nF           48       -7.0\nG           65       10.0\nH           49       -6.0\nI           65       10.0\nJ           58        3.0",
      "text/html": "<div>\n<style scoped>\n    .dataframe tbody tr th:only-of-type {\n        vertical-align: middle;\n    }\n\n    .dataframe tbody tr th {\n        vertical-align: top;\n    }\n\n    .dataframe thead th {\n        text-align: right;\n    }\n</style>\n<table border=\"1\" class=\"dataframe\">\n  <thead>\n    <tr style=\"text-align: right;\">\n      <th></th>\n      <th>score</th>\n      <th>deviation</th>\n    </tr>\n    <tr>\n      <th>student</th>\n      <th></th>\n      <th></th>\n    </tr>\n  </thead>\n  <tbody>\n    <tr>\n      <th>A</th>\n      <td>42</td>\n      <td>-13.0</td>\n    </tr>\n    <tr>\n      <th>B</th>\n      <td>69</td>\n      <td>14.0</td>\n    </tr>\n    <tr>\n      <th>C</th>\n      <td>56</td>\n      <td>1.0</td>\n    </tr>\n    <tr>\n      <th>D</th>\n      <td>41</td>\n      <td>-14.0</td>\n    </tr>\n    <tr>\n      <th>E</th>\n      <td>57</td>\n      <td>2.0</td>\n    </tr>\n    <tr>\n      <th>F</th>\n      <td>48</td>\n      <td>-7.0</td>\n    </tr>\n    <tr>\n      <th>G</th>\n      <td>65</td>\n      <td>10.0</td>\n    </tr>\n    <tr>\n      <th>H</th>\n      <td>49</td>\n      <td>-6.0</td>\n    </tr>\n    <tr>\n      <th>I</th>\n      <td>65</td>\n      <td>10.0</td>\n    </tr>\n    <tr>\n      <th>J</th>\n      <td>58</td>\n      <td>3.0</td>\n    </tr>\n  </tbody>\n</table>\n</div>"
     },
     "execution_count": 7,
     "metadata": {},
     "output_type": "execute_result"
    }
   ],
   "source": [
    "summary_df = scores_df.copy()\n",
    "summary_df[\"deviation\"] = deviation\n",
    "summary_df"
   ],
   "metadata": {
    "collapsed": false,
    "pycharm": {
     "name": "#%%\n"
    }
   }
  },
  {
   "cell_type": "code",
   "execution_count": 8,
   "outputs": [
    {
     "data": {
      "text/plain": "score        55.0\ndeviation     0.0\ndtype: float64"
     },
     "execution_count": 8,
     "metadata": {},
     "output_type": "execute_result"
    }
   ],
   "source": [
    "summary_df.mean()"
   ],
   "metadata": {
    "collapsed": false,
    "pycharm": {
     "name": "#%%\n"
    }
   }
  },
  {
   "cell_type": "markdown",
   "source": [
    "### 분산\n",
    "산포도의 지표로 각 데이터와 평균 간 차이를 나타내는 편차를 이용하는 것은 바람직한 생각이지만, 편차의 평균이 항상 0이 되므로 잘 사용하지 않는다.\n",
    "그렇다면 어떻게 해야 할까? 각각의 산포도라는 의미에서 보면 B학생과 D학생 모두 평균에서 14점 떨어져 있으므로 동일한 산포도를 가지고 있는 거 같다. 이 때문에 평균보다 14점이 크든 14점이 작든 이 둘을 동일하게 취급하여 편차의 제곱을 이용한다. 그리고 그 평균으로 정의되는 지표가 **분산(variance)**이 된다."
   ],
   "metadata": {
    "collapsed": false,
    "pycharm": {
     "name": "#%% md\n"
    }
   }
  },
  {
   "cell_type": "code",
   "execution_count": 9,
   "outputs": [
    {
     "data": {
      "text/plain": "86.000"
     },
     "execution_count": 9,
     "metadata": {},
     "output_type": "execute_result"
    }
   ],
   "source": [
    "np.mean(deviation ** 2)"
   ],
   "metadata": {
    "collapsed": false,
    "pycharm": {
     "name": "#%%\n"
    }
   }
  },
  {
   "cell_type": "code",
   "execution_count": 10,
   "outputs": [
    {
     "data": {
      "text/plain": "86.000"
     },
     "execution_count": 10,
     "metadata": {},
     "output_type": "execute_result"
    }
   ],
   "source": [
    "np.var(scores, ddof=0)"
   ],
   "metadata": {
    "collapsed": false,
    "pycharm": {
     "name": "#%%\n"
    }
   }
  },
  {
   "cell_type": "code",
   "execution_count": 11,
   "outputs": [
    {
     "data": {
      "text/plain": "score        86.0\ndeviation    86.0\ndtype: float64"
     },
     "execution_count": 11,
     "metadata": {},
     "output_type": "execute_result"
    }
   ],
   "source": [
    "# numpy 기본 분산: 표본 분산\n",
    "# pandas 기본 분산: 불편 분산\n",
    "# summary_df.var() # 결과값이 다르다.\n",
    "\n",
    "# ddof=0 -> 표본분산\n",
    "# ddof=1 -> 불편분산\n",
    "summary_df.var(ddof=0)"
   ],
   "metadata": {
    "collapsed": false,
    "pycharm": {
     "name": "#%%\n"
    }
   }
  },
  {
   "cell_type": "code",
   "execution_count": 12,
   "outputs": [
    {
     "data": {
      "text/plain": "         score  deviation  square of deviation\nstudent                                       \nA           42      -13.0                169.0\nB           69       14.0                196.0\nC           56        1.0                  1.0\nD           41      -14.0                196.0\nE           57        2.0                  4.0\nF           48       -7.0                 49.0\nG           65       10.0                100.0\nH           49       -6.0                 36.0\nI           65       10.0                100.0\nJ           58        3.0                  9.0",
      "text/html": "<div>\n<style scoped>\n    .dataframe tbody tr th:only-of-type {\n        vertical-align: middle;\n    }\n\n    .dataframe tbody tr th {\n        vertical-align: top;\n    }\n\n    .dataframe thead th {\n        text-align: right;\n    }\n</style>\n<table border=\"1\" class=\"dataframe\">\n  <thead>\n    <tr style=\"text-align: right;\">\n      <th></th>\n      <th>score</th>\n      <th>deviation</th>\n      <th>square of deviation</th>\n    </tr>\n    <tr>\n      <th>student</th>\n      <th></th>\n      <th></th>\n      <th></th>\n    </tr>\n  </thead>\n  <tbody>\n    <tr>\n      <th>A</th>\n      <td>42</td>\n      <td>-13.0</td>\n      <td>169.0</td>\n    </tr>\n    <tr>\n      <th>B</th>\n      <td>69</td>\n      <td>14.0</td>\n      <td>196.0</td>\n    </tr>\n    <tr>\n      <th>C</th>\n      <td>56</td>\n      <td>1.0</td>\n      <td>1.0</td>\n    </tr>\n    <tr>\n      <th>D</th>\n      <td>41</td>\n      <td>-14.0</td>\n      <td>196.0</td>\n    </tr>\n    <tr>\n      <th>E</th>\n      <td>57</td>\n      <td>2.0</td>\n      <td>4.0</td>\n    </tr>\n    <tr>\n      <th>F</th>\n      <td>48</td>\n      <td>-7.0</td>\n      <td>49.0</td>\n    </tr>\n    <tr>\n      <th>G</th>\n      <td>65</td>\n      <td>10.0</td>\n      <td>100.0</td>\n    </tr>\n    <tr>\n      <th>H</th>\n      <td>49</td>\n      <td>-6.0</td>\n      <td>36.0</td>\n    </tr>\n    <tr>\n      <th>I</th>\n      <td>65</td>\n      <td>10.0</td>\n      <td>100.0</td>\n    </tr>\n    <tr>\n      <th>J</th>\n      <td>58</td>\n      <td>3.0</td>\n      <td>9.0</td>\n    </tr>\n  </tbody>\n</table>\n</div>"
     },
     "execution_count": 12,
     "metadata": {},
     "output_type": "execute_result"
    }
   ],
   "source": [
    "summary_df[\"square of deviation\"] = np.square(deviation)\n",
    "summary_df"
   ],
   "metadata": {
    "collapsed": false,
    "pycharm": {
     "name": "#%%\n"
    }
   }
  },
  {
   "cell_type": "code",
   "execution_count": 13,
   "outputs": [
    {
     "data": {
      "text/plain": "score                  55.0\ndeviation               0.0\nsquare of deviation    86.0\ndtype: float64"
     },
     "execution_count": 13,
     "metadata": {},
     "output_type": "execute_result"
    }
   ],
   "source": [
    "summary_df.mean()"
   ],
   "metadata": {
    "collapsed": false,
    "pycharm": {
     "name": "#%%\n"
    }
   }
  },
  {
   "cell_type": "markdown",
   "source": [
    "### 표준편차\n",
    "평균의 단위는 원래의 데이터 단위와 다르지 않으므로, 영어 시험 점수라면 평균도 점수라는 단위를 쓴다. 결국 평균은 55점으로 표현할 수 있다. 그러나 분산은 점수의 면적으로 나타내므로 점수의 제곱이라는 이해하기 어려운 단위를 사용한다. 영어 점수의 분산이 86^2라고 말해도 그다지 감이 오지 않는다.\n",
    "이 때문에 원래의 데이터와 동일한 단위를 쓰는 산포도의 지표가 있다면 도움이 된다. 이와 같은 산포도 지표로 분산에 제곱근을 취한 **표준편차(standard deviation)**를 이용한다."
   ],
   "metadata": {
    "collapsed": false,
    "pycharm": {
     "name": "#%% md\n"
    }
   }
  },
  {
   "cell_type": "code",
   "execution_count": 14,
   "outputs": [
    {
     "data": {
      "text/plain": "9.274"
     },
     "execution_count": 14,
     "metadata": {},
     "output_type": "execute_result"
    }
   ],
   "source": [
    "np.sqrt(np.var(scores, ddof=0))"
   ],
   "metadata": {
    "collapsed": false,
    "pycharm": {
     "name": "#%%\n"
    }
   }
  },
  {
   "cell_type": "code",
   "execution_count": 15,
   "outputs": [
    {
     "data": {
      "text/plain": "9.274"
     },
     "execution_count": 15,
     "metadata": {},
     "output_type": "execute_result"
    }
   ],
   "source": [
    "np.std(scores, ddof=0)"
   ],
   "metadata": {
    "collapsed": false,
    "pycharm": {
     "name": "#%%\n"
    }
   }
  },
  {
   "cell_type": "markdown",
   "source": [
    "## 2.2.2 범위와 사분위 범위\n",
    "\n",
    "## 범위(Range)\n",
    "범위는 분산이나 표준편차와 달리, 데이터 전체를 보는 것이 아니라 데이터의 최댓값과 최솟값만으로 산포도를 표현하는 방법이다.\n",
    "최댓값과 최솟값의 차이가 크면 산포다가 크고, 그 차이가 작으면 산포도도 작다는 의미다."
   ],
   "metadata": {
    "collapsed": false,
    "pycharm": {
     "name": "#%% md\n"
    }
   }
  },
  {
   "cell_type": "code",
   "execution_count": 16,
   "outputs": [
    {
     "data": {
      "text/plain": "28"
     },
     "execution_count": 16,
     "metadata": {},
     "output_type": "execute_result"
    }
   ],
   "source": [
    "np.max(scores) - np.min(scores)"
   ],
   "metadata": {
    "collapsed": false,
    "pycharm": {
     "name": "#%%\n"
    }
   }
  },
  {
   "cell_type": "markdown",
   "source": [
    "## 사분위 범위(Interquartile range)\n",
    "범위는 최댓값과 최솟값밖에 보이지 않으므로, 큰 이상값이 하나라도 있으면 범위도 크게 변화한다. 이 때문에 최댓값과 최솟값이 아니라, 데이터의 상위수%에 위치하는 값과 하위수%에 위치하는 값의 차이를 취하는 방법을 생각할 수 있다.\n",
    "특히 **사분위 범위**에서는 데이터의 하위 25%, 50%, 75%에 위치하는 값에 주목한다. 이를 각각 제1사분위수, 제2사분위수, 제3사분위수라고 하며 Q1, Q2, Q3로 나타낸다. 그리고 Q3-Q1을 사분위 범위 IQR로 정의한다.\n"
   ],
   "metadata": {
    "collapsed": false,
    "pycharm": {
     "name": "#%% md\n"
    }
   }
  },
  {
   "cell_type": "code",
   "execution_count": 17,
   "outputs": [
    {
     "data": {
      "text/plain": "15.000"
     },
     "execution_count": 17,
     "metadata": {},
     "output_type": "execute_result"
    }
   ],
   "source": [
    "scores_Q1 = np.percentile(scores, 25)\n",
    "scores_Q3 = np.percentile(scores, 75)\n",
    "scores_IQR = scores_Q3 - scores_Q1\n",
    "scores_IQR"
   ],
   "metadata": {
    "collapsed": false,
    "pycharm": {
     "name": "#%%\n"
    }
   }
  },
  {
   "cell_type": "markdown",
   "source": [
    "## 2.2.3 데이터의 지표 정리\n",
    "DataFame이나 Series에서는 지금까지 다룬 다양한 지표를 한 번에 구할 수 잇는 편리한 메서드 describe가 있다.\n"
   ],
   "metadata": {
    "collapsed": false,
    "pycharm": {
     "name": "#%% md\n"
    }
   }
  },
  {
   "cell_type": "code",
   "execution_count": 18,
   "outputs": [
    {
     "data": {
      "text/plain": "count    10.000\nmean     55.000\nstd       9.775\nmin      41.000\n25%      48.250\n50%      56.500\n75%      63.250\nmax      69.000\ndtype: float64"
     },
     "execution_count": 18,
     "metadata": {},
     "output_type": "execute_result"
    }
   ],
   "source": [
    "pd.Series(scores).describe()"
   ],
   "metadata": {
    "collapsed": false,
    "pycharm": {
     "name": "#%%\n"
    }
   }
  }
 ],
 "metadata": {
  "kernelspec": {
   "display_name": "Python 3",
   "language": "python",
   "name": "python3"
  },
  "language_info": {
   "codemirror_mode": {
    "name": "ipython",
    "version": 2
   },
   "file_extension": ".py",
   "mimetype": "text/x-python",
   "name": "python",
   "nbconvert_exporter": "python",
   "pygments_lexer": "ipython2",
   "version": "2.7.6"
  }
 },
 "nbformat": 4,
 "nbformat_minor": 0
}