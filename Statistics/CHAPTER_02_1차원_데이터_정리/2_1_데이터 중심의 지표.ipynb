{
 "cells": [
  {
   "cell_type": "markdown",
   "source": [
    "통계분석을 시작하는 첫걸음은 데이터를 정리하여 데이터의 특징을 파악하는 것이다. 데이터의 개요를 파악하면 수많은 통계분석 기법 중에서 적절한 기법을 선택해 다음 걸음을 내딛을 수 있다.\n",
    "\n",
    "데이터의 특징을 파악하는 방법에는 크게 두 가지가 있다.\n",
    "- 평균이나 분산 등의 수치 지표에 따라 데이터를 요약하는 바업ㅂ\n",
    "- 그림을 그려 시각적으로 데이터를 조감하는 방법"
   ],
   "metadata": {
    "collapsed": false,
    "pycharm": {
     "name": "#%% md\n"
    }
   }
  },
  {
   "cell_type": "code",
   "execution_count": 21,
   "outputs": [
    {
     "data": {
      "text/plain": "                english  mathematics\nstudent number                      \n1                    42           65\n2                    69           80\n3                    56           63\n4                    41           63\n5                    57           76\n6                    48           60\n7                    65           81\n8                    49           66\n9                    65           78\n10                   58           82\n11                   70           94\n12                   47           75\n13                   51           70\n14                   64           77\n15                   62           84\n16                   70           84\n17                   71           82\n18                   68           85\n19                   73           90\n20                   37           70\n21                   65           78\n22                   65           93\n23                   61           77\n24                   52           88\n25                   57           82\n26                   57           76\n27                   75           87\n28                   61           84\n29                   47           77\n30                   54           82\n31                   66           91\n32                   54           75\n33                   54           76\n34                   42           78\n35                   37           57\n36                   79           89\n37                   56           83\n38                   62           69\n39                   62           86\n40                   55           81\n41                   63           81\n42                   57           80\n43                   57           79\n44                   67           87\n45                   55           84\n46                   45           71\n47                   66           80\n48                   55           77\n49                   64           83\n50                   66           88",
      "text/html": "<div>\n<style scoped>\n    .dataframe tbody tr th:only-of-type {\n        vertical-align: middle;\n    }\n\n    .dataframe tbody tr th {\n        vertical-align: top;\n    }\n\n    .dataframe thead th {\n        text-align: right;\n    }\n</style>\n<table border=\"1\" class=\"dataframe\">\n  <thead>\n    <tr style=\"text-align: right;\">\n      <th></th>\n      <th>english</th>\n      <th>mathematics</th>\n    </tr>\n    <tr>\n      <th>student number</th>\n      <th></th>\n      <th></th>\n    </tr>\n  </thead>\n  <tbody>\n    <tr>\n      <th>1</th>\n      <td>42</td>\n      <td>65</td>\n    </tr>\n    <tr>\n      <th>2</th>\n      <td>69</td>\n      <td>80</td>\n    </tr>\n    <tr>\n      <th>3</th>\n      <td>56</td>\n      <td>63</td>\n    </tr>\n    <tr>\n      <th>4</th>\n      <td>41</td>\n      <td>63</td>\n    </tr>\n    <tr>\n      <th>5</th>\n      <td>57</td>\n      <td>76</td>\n    </tr>\n    <tr>\n      <th>6</th>\n      <td>48</td>\n      <td>60</td>\n    </tr>\n    <tr>\n      <th>7</th>\n      <td>65</td>\n      <td>81</td>\n    </tr>\n    <tr>\n      <th>8</th>\n      <td>49</td>\n      <td>66</td>\n    </tr>\n    <tr>\n      <th>9</th>\n      <td>65</td>\n      <td>78</td>\n    </tr>\n    <tr>\n      <th>10</th>\n      <td>58</td>\n      <td>82</td>\n    </tr>\n    <tr>\n      <th>11</th>\n      <td>70</td>\n      <td>94</td>\n    </tr>\n    <tr>\n      <th>12</th>\n      <td>47</td>\n      <td>75</td>\n    </tr>\n    <tr>\n      <th>13</th>\n      <td>51</td>\n      <td>70</td>\n    </tr>\n    <tr>\n      <th>14</th>\n      <td>64</td>\n      <td>77</td>\n    </tr>\n    <tr>\n      <th>15</th>\n      <td>62</td>\n      <td>84</td>\n    </tr>\n    <tr>\n      <th>16</th>\n      <td>70</td>\n      <td>84</td>\n    </tr>\n    <tr>\n      <th>17</th>\n      <td>71</td>\n      <td>82</td>\n    </tr>\n    <tr>\n      <th>18</th>\n      <td>68</td>\n      <td>85</td>\n    </tr>\n    <tr>\n      <th>19</th>\n      <td>73</td>\n      <td>90</td>\n    </tr>\n    <tr>\n      <th>20</th>\n      <td>37</td>\n      <td>70</td>\n    </tr>\n    <tr>\n      <th>21</th>\n      <td>65</td>\n      <td>78</td>\n    </tr>\n    <tr>\n      <th>22</th>\n      <td>65</td>\n      <td>93</td>\n    </tr>\n    <tr>\n      <th>23</th>\n      <td>61</td>\n      <td>77</td>\n    </tr>\n    <tr>\n      <th>24</th>\n      <td>52</td>\n      <td>88</td>\n    </tr>\n    <tr>\n      <th>25</th>\n      <td>57</td>\n      <td>82</td>\n    </tr>\n    <tr>\n      <th>26</th>\n      <td>57</td>\n      <td>76</td>\n    </tr>\n    <tr>\n      <th>27</th>\n      <td>75</td>\n      <td>87</td>\n    </tr>\n    <tr>\n      <th>28</th>\n      <td>61</td>\n      <td>84</td>\n    </tr>\n    <tr>\n      <th>29</th>\n      <td>47</td>\n      <td>77</td>\n    </tr>\n    <tr>\n      <th>30</th>\n      <td>54</td>\n      <td>82</td>\n    </tr>\n    <tr>\n      <th>31</th>\n      <td>66</td>\n      <td>91</td>\n    </tr>\n    <tr>\n      <th>32</th>\n      <td>54</td>\n      <td>75</td>\n    </tr>\n    <tr>\n      <th>33</th>\n      <td>54</td>\n      <td>76</td>\n    </tr>\n    <tr>\n      <th>34</th>\n      <td>42</td>\n      <td>78</td>\n    </tr>\n    <tr>\n      <th>35</th>\n      <td>37</td>\n      <td>57</td>\n    </tr>\n    <tr>\n      <th>36</th>\n      <td>79</td>\n      <td>89</td>\n    </tr>\n    <tr>\n      <th>37</th>\n      <td>56</td>\n      <td>83</td>\n    </tr>\n    <tr>\n      <th>38</th>\n      <td>62</td>\n      <td>69</td>\n    </tr>\n    <tr>\n      <th>39</th>\n      <td>62</td>\n      <td>86</td>\n    </tr>\n    <tr>\n      <th>40</th>\n      <td>55</td>\n      <td>81</td>\n    </tr>\n    <tr>\n      <th>41</th>\n      <td>63</td>\n      <td>81</td>\n    </tr>\n    <tr>\n      <th>42</th>\n      <td>57</td>\n      <td>80</td>\n    </tr>\n    <tr>\n      <th>43</th>\n      <td>57</td>\n      <td>79</td>\n    </tr>\n    <tr>\n      <th>44</th>\n      <td>67</td>\n      <td>87</td>\n    </tr>\n    <tr>\n      <th>45</th>\n      <td>55</td>\n      <td>84</td>\n    </tr>\n    <tr>\n      <th>46</th>\n      <td>45</td>\n      <td>71</td>\n    </tr>\n    <tr>\n      <th>47</th>\n      <td>66</td>\n      <td>80</td>\n    </tr>\n    <tr>\n      <th>48</th>\n      <td>55</td>\n      <td>77</td>\n    </tr>\n    <tr>\n      <th>49</th>\n      <td>64</td>\n      <td>83</td>\n    </tr>\n    <tr>\n      <th>50</th>\n      <td>66</td>\n      <td>88</td>\n    </tr>\n  </tbody>\n</table>\n</div>"
     },
     "execution_count": 21,
     "metadata": {},
     "output_type": "execute_result"
    }
   ],
   "source": [
    "import numpy as np\n",
    "import pandas as pd\n",
    "\n",
    "\n",
    "# 쥬피터와 DataFrame의 출력을 소수점 이하 3자리로 제한\n",
    "%precision 3\n",
    "pd.set_option(\"display.precision\", 3)\n",
    "\n",
    "df = pd.read_csv(\"../data/ch2_scores_em.csv\", index_col=\"student number\")\n",
    "df"
   ],
   "metadata": {
    "collapsed": false,
    "pycharm": {
     "name": "#%%\n"
    }
   }
  },
  {
   "cell_type": "code",
   "execution_count": 21,
   "outputs": [],
   "source": [],
   "metadata": {
    "collapsed": false,
    "pycharm": {
     "name": "#%%\n"
    }
   }
  },
  {
   "cell_type": "code",
   "execution_count": 22,
   "outputs": [
    {
     "data": {
      "text/plain": "array([42, 69, 56, 41, 57, 48, 65, 49, 65, 58], dtype=int64)"
     },
     "execution_count": 22,
     "metadata": {},
     "output_type": "execute_result"
    }
   ],
   "source": [
    "scores = np.array(df[\"english\"])[:10]\n",
    "scores"
   ],
   "metadata": {
    "collapsed": false,
    "pycharm": {
     "name": "#%%\n"
    }
   }
  },
  {
   "cell_type": "code",
   "execution_count": 23,
   "outputs": [
    {
     "data": {
      "text/plain": "         score\nstudent       \nA           42\nB           69\nC           56\nD           41\nE           57\nF           48\nG           65\nH           49\nI           65\nJ           58",
      "text/html": "<div>\n<style scoped>\n    .dataframe tbody tr th:only-of-type {\n        vertical-align: middle;\n    }\n\n    .dataframe tbody tr th {\n        vertical-align: top;\n    }\n\n    .dataframe thead th {\n        text-align: right;\n    }\n</style>\n<table border=\"1\" class=\"dataframe\">\n  <thead>\n    <tr style=\"text-align: right;\">\n      <th></th>\n      <th>score</th>\n    </tr>\n    <tr>\n      <th>student</th>\n      <th></th>\n    </tr>\n  </thead>\n  <tbody>\n    <tr>\n      <th>A</th>\n      <td>42</td>\n    </tr>\n    <tr>\n      <th>B</th>\n      <td>69</td>\n    </tr>\n    <tr>\n      <th>C</th>\n      <td>56</td>\n    </tr>\n    <tr>\n      <th>D</th>\n      <td>41</td>\n    </tr>\n    <tr>\n      <th>E</th>\n      <td>57</td>\n    </tr>\n    <tr>\n      <th>F</th>\n      <td>48</td>\n    </tr>\n    <tr>\n      <th>G</th>\n      <td>65</td>\n    </tr>\n    <tr>\n      <th>H</th>\n      <td>49</td>\n    </tr>\n    <tr>\n      <th>I</th>\n      <td>65</td>\n    </tr>\n    <tr>\n      <th>J</th>\n      <td>58</td>\n    </tr>\n  </tbody>\n</table>\n</div>"
     },
     "execution_count": 23,
     "metadata": {},
     "output_type": "execute_result"
    }
   ],
   "source": [
    "scores_df = pd.DataFrame({'score': scores}, index=pd.Index(['A', 'B', 'C', 'D', 'E', 'F', 'G', 'H', 'I', 'J'], name=\"student\"))\n",
    "scores_df"
   ],
   "metadata": {
    "collapsed": false,
    "pycharm": {
     "name": "#%%\n"
    }
   }
  },
  {
   "cell_type": "markdown",
   "source": [
    "# 2.1 데이터 중심의 지표\n",
    "데이터를 하나의 값으로 요약한 지표이며, **대푯값**이라고 한다.\n",
    "예를 들어, 어떤 시험의 난이도를 알고 싶다면 전체 학생의 시험 점수를 확인하지 않더라도 평균 점수를 알면 파악할 수 있다. 평균 점수가 30점이라면 그 시험은 어려웠다는 것을, 평균 점수가 90점이라면 그 시험은 쉬었다는 것을 의미한다.\n",
    "\n",
    "## 2.1.1 평균값\n",
    "평균값(mean)은 가장 잘 알려진 대푯값으로, 일상생활에서도 사용할 기회가 많다.\n",
    "평균값은 데이터를 모두 더한 뒤, 데이터의 개수로 나누어 구한다."
   ],
   "metadata": {
    "collapsed": false,
    "pycharm": {
     "name": "#%% md\n"
    }
   }
  },
  {
   "cell_type": "code",
   "execution_count": 24,
   "outputs": [
    {
     "data": {
      "text/plain": "55.000"
     },
     "execution_count": 24,
     "metadata": {},
     "output_type": "execute_result"
    }
   ],
   "source": [
    "sum(scores) / len(scores)"
   ],
   "metadata": {
    "collapsed": false,
    "pycharm": {
     "name": "#%%\n"
    }
   }
  },
  {
   "cell_type": "code",
   "execution_count": 25,
   "outputs": [
    {
     "data": {
      "text/plain": "55.000"
     },
     "execution_count": 25,
     "metadata": {},
     "output_type": "execute_result"
    }
   ],
   "source": [
    "np.mean(scores)\n",
    "scores.mean()"
   ],
   "metadata": {
    "collapsed": false,
    "pycharm": {
     "name": "#%%\n"
    }
   }
  },
  {
   "cell_type": "code",
   "execution_count": 26,
   "outputs": [
    {
     "data": {
      "text/plain": "score    55.0\ndtype: float64"
     },
     "execution_count": 26,
     "metadata": {},
     "output_type": "execute_result"
    }
   ],
   "source": [
    "scores_df.mean()"
   ],
   "metadata": {
    "collapsed": false,
    "pycharm": {
     "name": "#%%\n"
    }
   }
  },
  {
   "cell_type": "markdown",
   "source": [
    "## 2.2.2 중앙값\n",
    "중앙값(median)은 데이터를 크기 순서대로 나열할 때 정확하게 중앙에 위치한 값이다.\n",
    "예를 들어 [9, 1, 5, 3, 7]이라는 데이터가 있다면 중앙값은 세 번째인 5가 된다.\n",
    "\n",
    "중앙값은 평균값에 비해 이상값에 강하다는 특징이 있다. 즉, 이상값에 영향을 덜 받는다는 의미다. [1, 2, 3, 4, 5, 6, 1000]이라는 큰 이상값을 포함한 데이터가 있다고 가정해보자. 이 데이터의 대푯값을 구하려고 할 때, 평균값은 1000이라는 값에 크게 영향을 받아 150에 가까운 값이 되어버린다. 150이라는 수치는 이 데이터를 적절하게 표현한다고 할 수 없다. 그렇다면 중앙값은 어떨까? 데이터의 개수가 7이므로 4번째인 4가 중앙값이 된다.\n",
    "이와 같이 데이터에 큰 이상값이 있는 경우, 대푯값으로 평균값보다 중앙값이 적절하다.\n",
    "데이터의 개수가 짝수일 때는 중앙에 위치하는 값이 2개다. 이 경우, 중앙값은 두 값의 평균값으로 정의된다."
   ],
   "metadata": {
    "collapsed": false,
    "pycharm": {
     "name": "#%% md\n"
    }
   }
  },
  {
   "cell_type": "code",
   "execution_count": 28,
   "outputs": [
    {
     "data": {
      "text/plain": "array([41, 42, 48, 49, 56, 57, 58, 65, 65, 69], dtype=int64)"
     },
     "execution_count": 28,
     "metadata": {},
     "output_type": "execute_result"
    }
   ],
   "source": [
    "sorted_scores = np.sort(scores)\n",
    "sorted_scores"
   ],
   "metadata": {
    "collapsed": false,
    "pycharm": {
     "name": "#%%\n"
    }
   }
  },
  {
   "cell_type": "code",
   "execution_count": 29,
   "outputs": [
    {
     "data": {
      "text/plain": "56.500"
     },
     "execution_count": 29,
     "metadata": {},
     "output_type": "execute_result"
    }
   ],
   "source": [
    "n = len(sorted_scores)\n",
    "if n % 2 == 0:\n",
    "    m0 = sorted_scores[n//2 - 1]\n",
    "    m1 = sorted_scores[n//2]\n",
    "    median = (m0 + m1) / 2\n",
    "else:\n",
    "    median = sorted_scores[(n+1) // 2 - 1]\n",
    "median"
   ],
   "metadata": {
    "collapsed": false,
    "pycharm": {
     "name": "#%%\n"
    }
   }
  },
  {
   "cell_type": "code",
   "execution_count": 35,
   "outputs": [
    {
     "data": {
      "text/plain": "56.500"
     },
     "execution_count": 35,
     "metadata": {},
     "output_type": "execute_result"
    }
   ],
   "source": [
    "np.median(scores)"
   ],
   "metadata": {
    "collapsed": false,
    "pycharm": {
     "name": "#%%\n"
    }
   }
  },
  {
   "cell_type": "code",
   "execution_count": 41,
   "outputs": [
    {
     "data": {
      "text/plain": "score    56.5\ndtype: float64"
     },
     "execution_count": 41,
     "metadata": {},
     "output_type": "execute_result"
    }
   ],
   "source": [
    "scores_df.median()"
   ],
   "metadata": {
    "collapsed": false,
    "pycharm": {
     "name": "#%%\n"
    }
   }
  },
  {
   "cell_type": "markdown",
   "source": [
    "## 2.1.3 최빈값\n",
    "최빈값(mode)은 데이터에서 가장 많이 나타나는 값이다. [1, 1, 1, 2, 2, 3]이라는 데이터가 있으면, 1이 가장 많이 나타나므로 최빈값은 1이 된다.\n",
    "최빈값은 기본적으로 직적 데이터의 대푯값을 구할 때 사용하는 지표다. 왜냐하면 시험 점수와 같은 양적 데이터에서는 최빈값을 구하려고 해도 동일한 점수가 여러 번 나오는 경우가 거의 없어, 유일한 값이 결정되지 않을 때가 많기 때문이다."
   ],
   "metadata": {
    "collapsed": false,
    "pycharm": {
     "name": "#%% md\n"
    }
   }
  },
  {
   "cell_type": "code",
   "execution_count": 42,
   "outputs": [
    {
     "data": {
      "text/plain": "0    1\ndtype: int64"
     },
     "execution_count": 42,
     "metadata": {},
     "output_type": "execute_result"
    }
   ],
   "source": [
    "pd.Series([1, 1, 1, 2, 2, 3]).mode()"
   ],
   "metadata": {
    "collapsed": false,
    "pycharm": {
     "name": "#%%\n"
    }
   }
  }
 ],
 "metadata": {
  "kernelspec": {
   "display_name": "Python 3",
   "language": "python",
   "name": "python3"
  },
  "language_info": {
   "codemirror_mode": {
    "name": "ipython",
    "version": 2
   },
   "file_extension": ".py",
   "mimetype": "text/x-python",
   "name": "python",
   "nbconvert_exporter": "python",
   "pygments_lexer": "ipython2",
   "version": "2.7.6"
  }
 },
 "nbformat": 4,
 "nbformat_minor": 0
}