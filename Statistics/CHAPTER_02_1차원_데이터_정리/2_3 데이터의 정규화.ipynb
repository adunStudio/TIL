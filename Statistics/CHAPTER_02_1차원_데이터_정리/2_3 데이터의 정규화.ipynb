{
 "cells": [
  {
   "cell_type": "code",
   "execution_count": 8,
   "metadata": {
    "collapsed": true,
    "pycharm": {
     "name": "#%%\n"
    }
   },
   "outputs": [],
   "source": [
    "import numpy as np\n",
    "import pandas as pd\n",
    "\n",
    "\n",
    "# 쥬피터와 DataFrame의 출력을 소수점 이하 3자리로 제한\n",
    "%precision 3\n",
    "pd.set_option(\"display.precision\", 3)\n",
    "\n",
    "df = pd.read_csv(\"../data/ch2_scores_em.csv\", index_col=\"student number\")\n",
    "scores = np.array(df[\"english\"])[:10]\n",
    "scores_df = pd.DataFrame({'score': scores}, index=pd.Index(['A', 'B', 'C', 'D', 'E', 'F', 'G', 'H', 'I', 'J'], name=\"student\"))\n"
   ]
  },
  {
   "cell_type": "markdown",
   "source": [
    "# 2.3. 데이터의 정규하\n",
    "시험 점수는 동일한 60점이라도, 평균 점수가 30점인 어려운 시험에서 얻은 60점과 펑균 점수가 90점인 쉬운 시험에서 얻은 60점은 상대적인 결과가 다르다.\n",
    "점수라는 지표는 그 시험의 평균이나 분산에 따라 평가가 달라진다. 그러므로 평균이나 분산에 의존하지 않고도 데이터의 상대적인 위치 관계를 알 수 있는 지표가 있다면 편리할 것이다.\n",
    "\n",
    "이와 같은 대표적인 지표로 편찻값이 있다. 평균이나 분산이 어떻게 나오든, 편찻값이 50이면 평균 결과이고 편찻값이 60이면 상위 결과라는 통일된 평가를 할 수 있다.\n",
    "이처럼 데이터를 통일된 지표로 편환하는 것을 **정규화(normalization)**라고 한다."
   ],
   "metadata": {
    "collapsed": false,
    "pycharm": {
     "name": "#%% md\n"
    }
   }
  },
  {
   "cell_type": "markdown",
   "source": [
    "## 2.3.1 표준화(standardization)\n",
    "데이터에서 평균을 빼고 표준편차로 나누는 작업을 **표준화**라고 한다.\n",
    "표준화된 데이터를 **표준화 변량(standardized data)**이나 **Z 점수(z-score)**라고 한다.\n",
    "\n",
    "시험 점수를 표준화해보자."
   ],
   "metadata": {
    "collapsed": false,
    "pycharm": {
     "name": "#%% md\n"
    }
   }
  },
  {
   "cell_type": "code",
   "execution_count": 9,
   "outputs": [
    {
     "data": {
      "text/plain": "array([-1.402,  1.51 ,  0.108, -1.51 ,  0.216, -0.755,  1.078, -0.647,\n        1.078,  0.323])"
     },
     "execution_count": 9,
     "metadata": {},
     "output_type": "execute_result"
    }
   ],
   "source": [
    "z = (scores - np.mean(scores)) / np.std(scores)\n",
    "z"
   ],
   "metadata": {
    "collapsed": false,
    "pycharm": {
     "name": "#%%\n"
    }
   }
  },
  {
   "cell_type": "markdown",
   "source": [
    "표준화된 데이터는 평균이 0, 표준편차가 1이 된다."
   ],
   "metadata": {
    "collapsed": false,
    "pycharm": {
     "name": "#%% md\n"
    }
   }
  },
  {
   "cell_type": "code",
   "execution_count": 10,
   "outputs": [
    {
     "data": {
      "text/plain": "(-0.000, 1.000)"
     },
     "execution_count": 10,
     "metadata": {},
     "output_type": "execute_result"
    }
   ],
   "source": [
    "np.mean(z), np.std(z, ddof=0)"
   ],
   "metadata": {
    "collapsed": false,
    "pycharm": {
     "name": "#%%\n"
    }
   }
  },
  {
   "cell_type": "markdown",
   "source": [
    "## 2.3.1 편찻값\n",
    "편찻값은 평균이 50, 표준편차가 10이 되도록 정규화 한 값을 말한다."
   ],
   "metadata": {
    "collapsed": false,
    "pycharm": {
     "name": "#%% md\n"
    }
   }
  },
  {
   "cell_type": "code",
   "execution_count": 11,
   "outputs": [
    {
     "data": {
      "text/plain": "array([35.982, 65.097, 51.078, 34.903, 52.157, 42.452, 60.783, 43.53 ,\n       60.783, 53.235])"
     },
     "execution_count": 11,
     "metadata": {},
     "output_type": "execute_result"
    }
   ],
   "source": [
    "z = 50 + 10 * (scores - np.mean(scores)) / np.std(scores)\n",
    "z"
   ],
   "metadata": {
    "collapsed": false,
    "pycharm": {
     "name": "#%%\n"
    }
   }
  },
  {
   "cell_type": "code",
   "execution_count": 12,
   "outputs": [
    {
     "data": {
      "text/plain": "         score  deviation value\nstudent                        \nA           42           35.982\nB           69           65.097\nC           56           51.078\nD           41           34.903\nE           57           52.157\nF           48           42.452\nG           65           60.783\nH           49           43.530\nI           65           60.783\nJ           58           53.235",
      "text/html": "<div>\n<style scoped>\n    .dataframe tbody tr th:only-of-type {\n        vertical-align: middle;\n    }\n\n    .dataframe tbody tr th {\n        vertical-align: top;\n    }\n\n    .dataframe thead th {\n        text-align: right;\n    }\n</style>\n<table border=\"1\" class=\"dataframe\">\n  <thead>\n    <tr style=\"text-align: right;\">\n      <th></th>\n      <th>score</th>\n      <th>deviation value</th>\n    </tr>\n    <tr>\n      <th>student</th>\n      <th></th>\n      <th></th>\n    </tr>\n  </thead>\n  <tbody>\n    <tr>\n      <th>A</th>\n      <td>42</td>\n      <td>35.982</td>\n    </tr>\n    <tr>\n      <th>B</th>\n      <td>69</td>\n      <td>65.097</td>\n    </tr>\n    <tr>\n      <th>C</th>\n      <td>56</td>\n      <td>51.078</td>\n    </tr>\n    <tr>\n      <th>D</th>\n      <td>41</td>\n      <td>34.903</td>\n    </tr>\n    <tr>\n      <th>E</th>\n      <td>57</td>\n      <td>52.157</td>\n    </tr>\n    <tr>\n      <th>F</th>\n      <td>48</td>\n      <td>42.452</td>\n    </tr>\n    <tr>\n      <th>G</th>\n      <td>65</td>\n      <td>60.783</td>\n    </tr>\n    <tr>\n      <th>H</th>\n      <td>49</td>\n      <td>43.530</td>\n    </tr>\n    <tr>\n      <th>I</th>\n      <td>65</td>\n      <td>60.783</td>\n    </tr>\n    <tr>\n      <th>J</th>\n      <td>58</td>\n      <td>53.235</td>\n    </tr>\n  </tbody>\n</table>\n</div>"
     },
     "execution_count": 12,
     "metadata": {},
     "output_type": "execute_result"
    }
   ],
   "source": [
    "scores_df['deviation value'] = z\n",
    "scores_df"
   ],
   "metadata": {
    "collapsed": false,
    "pycharm": {
     "name": "#%%\n"
    }
   }
  },
  {
   "cell_type": "markdown",
   "source": [
    "편찻값이라는 지표를 통하여, 어떤 학생이 평균적인 성적을 얻었고 어떤 학생이 우수한 성적을 얻었는지 하눈눈에 파악할 수 있다."
   ],
   "metadata": {
    "collapsed": false,
    "pycharm": {
     "name": "#%% md\n"
    }
   }
  }
 ],
 "metadata": {
  "kernelspec": {
   "display_name": "Python 3",
   "language": "python",
   "name": "python3"
  },
  "language_info": {
   "codemirror_mode": {
    "name": "ipython",
    "version": 2
   },
   "file_extension": ".py",
   "mimetype": "text/x-python",
   "name": "python",
   "nbconvert_exporter": "python",
   "pygments_lexer": "ipython2",
   "version": "2.7.6"
  }
 },
 "nbformat": 4,
 "nbformat_minor": 0
}