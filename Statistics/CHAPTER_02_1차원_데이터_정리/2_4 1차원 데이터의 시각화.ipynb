{
 "cells": [
  {
   "cell_type": "markdown",
   "source": [
    "# 2.4 1차원 데이터의 시각화\n",
    "50명의 영어 점수를  사용하여 데이터의 특징이나 분포를 표나 그림을 통해 시각적으로 파악할 수 있는 방법을 배워보자"
   ],
   "metadata": {
    "collapsed": false,
    "pycharm": {
     "name": "#%% md\n"
    }
   }
  },
  {
   "cell_type": "code",
   "execution_count": 29,
   "outputs": [
    {
     "data": {
      "text/plain": "count    50.00\nmean     58.38\nstd       9.80\nmin      37.00\n25%      54.00\n50%      57.50\n75%      65.00\nmax      79.00\ndtype: float64"
     },
     "execution_count": 29,
     "metadata": {},
     "output_type": "execute_result"
    }
   ],
   "source": [
    "import numpy as np\n",
    "import pandas as pd\n",
    "\n",
    "# 쥬피터와 DataFrame의 출력을 소수점 이하 3자리로 제한\n",
    "%precision 3\n",
    "pd.set_option(\"display.precision\", 3)\n",
    "\n",
    "df = pd.read_csv(\"../data/ch2_scores_em.csv\", index_col=\"student number\")\n",
    "\n",
    "# 50명의 영어 점수 array\n",
    "english_scores = np.array(df[\"english\"])\n",
    "\n",
    "#  Series로 변환하여 describe를 표시\n",
    "pd.Series(english_scores).describe()"
   ],
   "metadata": {
    "collapsed": false,
    "pycharm": {
     "name": "#%%\n"
    }
   }
  },
  {
   "cell_type": "markdown",
   "source": [
    "## 2.4.1 도수분포표(frequency distribution)\n",
    "describe 메서드로 출력된 평균이나 표준편차, 사분위수 등의 지표로 데이터의 중심이나 산포도 상태를 알 수 있지만, 데이터의 분포 상태를 세부적으로 알고 싶을 때가 있다.\n",
    "이럴때는 데이터가 취하는 값을 몇 개의 구간으로 나누고, 각 구간에 몇 개의 데이터가 들어가는가를 세는 방법이 있다.\n",
    "이처럼 분할된 구간과 데이터의 개수를 표로 정리한 것이 **도수분포표(frequency distribution table)***이다.\n",
    "\n",
    "시험 점수를 '0~10', '10~20', '90~100'점인 구간으로 10점 간격이 되게 나눈 후, 각 구간의 점수를 은 학생이 몇 명인지 세어어서 도수분포표를 작성할 수 있다.\n",
    "이때 0~10점이라는 구간은 **계급(class)**\n",
    "각 계급에 속한 학생 수를 **도수(frequency)**라고 한다.\n",
    "또한 각 구간의 폭을 **계급 폭**이라 하고, 계급의 수를 **계급수**라고 한다.\n",
    "(10점씩 나누었으므로 계급폭은 10점이고, 100점을 10점씩 구분하고 있으므로 계급수는 10이 된다.)"
   ],
   "metadata": {
    "collapsed": false,
    "pycharm": {
     "name": "#%% md\n"
    }
   }
  },
  {
   "cell_type": "code",
   "execution_count": 30,
   "outputs": [
    {
     "data": {
      "text/plain": "array([ 0,  0,  0,  2,  8, 16, 18,  6,  0,  0], dtype=int64)"
     },
     "execution_count": 30,
     "metadata": {},
     "output_type": "execute_result"
    }
   ],
   "source": [
    "# 도수는 np.histgram 함수를 사용하면 간단하게 구할 수 있다.\n",
    "# bins: 계급수\n",
    "# range: 최솟값과 최댓값 지정\n",
    "freq,_ = np.histogram(english_scores, bins=10, range=(0, 100))\n",
    "freq"
   ],
   "metadata": {
    "collapsed": false,
    "pycharm": {
     "name": "#%%\n"
    }
   }
  },
  {
   "cell_type": "code",
   "execution_count": 31,
   "outputs": [
    {
     "data": {
      "text/plain": "        frequency\nclass            \n0~10            0\n10~20           0\n20~30           0\n30~40           2\n40~50           8\n50~60          16\n60~70          18\n70~80           6\n80~90           0\n90~100          0",
      "text/html": "<div>\n<style scoped>\n    .dataframe tbody tr th:only-of-type {\n        vertical-align: middle;\n    }\n\n    .dataframe tbody tr th {\n        vertical-align: top;\n    }\n\n    .dataframe thead th {\n        text-align: right;\n    }\n</style>\n<table border=\"1\" class=\"dataframe\">\n  <thead>\n    <tr style=\"text-align: right;\">\n      <th></th>\n      <th>frequency</th>\n    </tr>\n    <tr>\n      <th>class</th>\n      <th></th>\n    </tr>\n  </thead>\n  <tbody>\n    <tr>\n      <th>0~10</th>\n      <td>0</td>\n    </tr>\n    <tr>\n      <th>10~20</th>\n      <td>0</td>\n    </tr>\n    <tr>\n      <th>20~30</th>\n      <td>0</td>\n    </tr>\n    <tr>\n      <th>30~40</th>\n      <td>2</td>\n    </tr>\n    <tr>\n      <th>40~50</th>\n      <td>8</td>\n    </tr>\n    <tr>\n      <th>50~60</th>\n      <td>16</td>\n    </tr>\n    <tr>\n      <th>60~70</th>\n      <td>18</td>\n    </tr>\n    <tr>\n      <th>70~80</th>\n      <td>6</td>\n    </tr>\n    <tr>\n      <th>80~90</th>\n      <td>0</td>\n    </tr>\n    <tr>\n      <th>90~100</th>\n      <td>0</td>\n    </tr>\n  </tbody>\n</table>\n</div>"
     },
     "execution_count": 31,
     "metadata": {},
     "output_type": "execute_result"
    }
   ],
   "source": [
    "# 0~10, 10~20, ..이라는 문자열 이르스틀 작성\n",
    "freq_class = [f\"{i}~{i+10}\" for i in range(0, 100, 10)]\n",
    "freq_class\n",
    "\n",
    "freq_dist_df = pd.DataFrame({'frequency':freq}, index=pd.Index(freq_class, name=\"class\"))\n",
    "freq_dist_df"
   ],
   "metadata": {
    "collapsed": false,
    "pycharm": {
     "name": "#%%\n"
    }
   }
  },
  {
   "cell_type": "markdown",
   "source": [
    "위 표를 보면 50~60점에 많은 학생이 몰려 있고, 고득점도 저득점도 없으며, 점수 차가 많이 나지 않는 시험이었다는 데이터의 특징을 간단하게 파악할 수 있다."
   ],
   "metadata": {
    "collapsed": false,
    "pycharm": {
     "name": "#%% md\n"
    }
   }
  },
  {
   "cell_type": "markdown",
   "source": [
    "도수분포표에서는 계급과 도수 외에도 계급값, 상대도수, 누적상대도수도 자주 함께 사용된다.\n",
    "\n",
    "**계급값**은 각 계급을 대표하는 값으로, 계급의 중앙값이 이용된다. (60~70의 계급이면 계급값은 65점이 된다.)"
   ],
   "metadata": {
    "collapsed": false,
    "pycharm": {
     "name": "#%% md\n"
    }
   }
  },
  {
   "cell_type": "code",
   "execution_count": 32,
   "outputs": [
    {
     "data": {
      "text/plain": "[5, 15, 25, 35, 45, 55, 65, 75, 85, 95]"
     },
     "execution_count": 32,
     "metadata": {},
     "output_type": "execute_result"
    }
   ],
   "source": [
    "class_value = [(i+(i+10))//2 for i in range(0, 100, 10)]\n",
    "class_value"
   ],
   "metadata": {
    "collapsed": false,
    "pycharm": {
     "name": "#%%\n"
    }
   }
  },
  {
   "cell_type": "markdown",
   "source": [
    "**상대도수**는 전체 데이터에 대해서 해당 계급의 데이터가 어느 정도 비율을 차지하고 있는지를 나타낸다."
   ],
   "metadata": {
    "collapsed": false,
    "pycharm": {
     "name": "#%% md\n"
    }
   }
  },
  {
   "cell_type": "code",
   "execution_count": 33,
   "outputs": [
    {
     "data": {
      "text/plain": "array([0.  , 0.  , 0.  , 0.04, 0.16, 0.32, 0.36, 0.12, 0.  , 0.  ])"
     },
     "execution_count": 33,
     "metadata": {},
     "output_type": "execute_result"
    }
   ],
   "source": [
    "rel_freq = freq / freq.sum()\n",
    "rel_freq"
   ],
   "metadata": {
    "collapsed": false,
    "pycharm": {
     "name": "#%%\n"
    }
   }
  },
  {
   "cell_type": "markdown",
   "source": [
    "**누적상대도수**는 해당 계급까지의 상대도수의 합을 나타낸다."
   ],
   "metadata": {
    "collapsed": false,
    "pycharm": {
     "name": "#%% md\n"
    }
   }
  },
  {
   "cell_type": "code",
   "execution_count": 34,
   "outputs": [
    {
     "data": {
      "text/plain": "array([0.  , 0.  , 0.  , 0.04, 0.2 , 0.52, 0.88, 1.  , 1.  , 1.  ])"
     },
     "execution_count": 34,
     "metadata": {},
     "output_type": "execute_result"
    }
   ],
   "source": [
    "cum_rel_freq = np.cumsum(rel_freq)\n",
    "cum_rel_freq"
   ],
   "metadata": {
    "collapsed": false,
    "pycharm": {
     "name": "#%%\n"
    }
   }
  },
  {
   "cell_type": "markdown",
   "source": [
    "계급값과 상대도수와 누적상대도수를 도수분포표에 추가해보자."
   ],
   "metadata": {
    "collapsed": false,
    "pycharm": {
     "name": "#%% md\n"
    }
   }
  },
  {
   "cell_type": "code",
   "execution_count": 35,
   "outputs": [
    {
     "data": {
      "text/plain": "        frequency  class value  relative frequency  \\\nclass                                                \n0~10            0            5                0.00   \n10~20           0           15                0.00   \n20~30           0           25                0.00   \n30~40           2           35                0.04   \n40~50           8           45                0.16   \n50~60          16           55                0.32   \n60~70          18           65                0.36   \n70~80           6           75                0.12   \n80~90           0           85                0.00   \n90~100          0           95                0.00   \n\n        cumulative relative frequency  \nclass                                  \n0~10                             0.00  \n10~20                            0.00  \n20~30                            0.00  \n30~40                            0.04  \n40~50                            0.20  \n50~60                            0.52  \n60~70                            0.88  \n70~80                            1.00  \n80~90                            1.00  \n90~100                           1.00  ",
      "text/html": "<div>\n<style scoped>\n    .dataframe tbody tr th:only-of-type {\n        vertical-align: middle;\n    }\n\n    .dataframe tbody tr th {\n        vertical-align: top;\n    }\n\n    .dataframe thead th {\n        text-align: right;\n    }\n</style>\n<table border=\"1\" class=\"dataframe\">\n  <thead>\n    <tr style=\"text-align: right;\">\n      <th></th>\n      <th>frequency</th>\n      <th>class value</th>\n      <th>relative frequency</th>\n      <th>cumulative relative frequency</th>\n    </tr>\n    <tr>\n      <th>class</th>\n      <th></th>\n      <th></th>\n      <th></th>\n      <th></th>\n    </tr>\n  </thead>\n  <tbody>\n    <tr>\n      <th>0~10</th>\n      <td>0</td>\n      <td>5</td>\n      <td>0.00</td>\n      <td>0.00</td>\n    </tr>\n    <tr>\n      <th>10~20</th>\n      <td>0</td>\n      <td>15</td>\n      <td>0.00</td>\n      <td>0.00</td>\n    </tr>\n    <tr>\n      <th>20~30</th>\n      <td>0</td>\n      <td>25</td>\n      <td>0.00</td>\n      <td>0.00</td>\n    </tr>\n    <tr>\n      <th>30~40</th>\n      <td>2</td>\n      <td>35</td>\n      <td>0.04</td>\n      <td>0.04</td>\n    </tr>\n    <tr>\n      <th>40~50</th>\n      <td>8</td>\n      <td>45</td>\n      <td>0.16</td>\n      <td>0.20</td>\n    </tr>\n    <tr>\n      <th>50~60</th>\n      <td>16</td>\n      <td>55</td>\n      <td>0.32</td>\n      <td>0.52</td>\n    </tr>\n    <tr>\n      <th>60~70</th>\n      <td>18</td>\n      <td>65</td>\n      <td>0.36</td>\n      <td>0.88</td>\n    </tr>\n    <tr>\n      <th>70~80</th>\n      <td>6</td>\n      <td>75</td>\n      <td>0.12</td>\n      <td>1.00</td>\n    </tr>\n    <tr>\n      <th>80~90</th>\n      <td>0</td>\n      <td>85</td>\n      <td>0.00</td>\n      <td>1.00</td>\n    </tr>\n    <tr>\n      <th>90~100</th>\n      <td>0</td>\n      <td>95</td>\n      <td>0.00</td>\n      <td>1.00</td>\n    </tr>\n  </tbody>\n</table>\n</div>"
     },
     "execution_count": 35,
     "metadata": {},
     "output_type": "execute_result"
    }
   ],
   "source": [
    "freq_dist_df[\"class value\"] = class_value\n",
    "freq_dist_df[\"relative frequency\"] = rel_freq\n",
    "freq_dist_df[\"cumulative relative frequency\"] = cum_rel_freq\n",
    "freq_dist_df"
   ],
   "metadata": {
    "collapsed": false,
    "pycharm": {
     "name": "#%%\n"
    }
   }
  },
  {
   "cell_type": "markdown",
   "source": [
    "### 최빈값 재검토\n",
    "도수분포표가 완성되었으므로 양적 데이터에 대해서도 자연스럽게 최빈값을 구할 수 있다.\n",
    "도수분포표를 사용한 최빈값은 최대가 되는 계급의 계급값으로 정의된다. 도수분표포를 통해 60~70인 계급의 도수가 최대인 것을 알 수 있으므로, 이 데이터의 최댓값은 65점이다."
   ],
   "metadata": {
    "collapsed": false,
    "pycharm": {
     "name": "#%% md\n"
    }
   }
  },
  {
   "cell_type": "code",
   "execution_count": 36,
   "outputs": [
    {
     "data": {
      "text/plain": "65"
     },
     "execution_count": 36,
     "metadata": {},
     "output_type": "execute_result"
    }
   ],
   "source": [
    "freq_dist_df.loc[freq_dist_df['frequency'].idxmax(), 'class value']"
   ],
   "metadata": {
    "collapsed": false,
    "pycharm": {
     "name": "#%%\n"
    }
   }
  },
  {
   "cell_type": "markdown",
   "source": [
    "## 2.4.2 히스토그램(histogram)\n",
    "히스토그램은 도수분포표를 막대그래프로 나타낸것이다. 히스토그램을 사용하여 데이터의 분포 상태를 더욱 시각적으로 파악할 수 있다."
   ],
   "metadata": {
    "collapsed": false,
    "pycharm": {
     "name": "#%% md\n"
    }
   }
  },
  {
   "cell_type": "code",
   "execution_count": 38,
   "outputs": [],
   "source": [
    "import matplotlib.pyplot as plt\n",
    "%matplotlib inline"
   ],
   "metadata": {
    "collapsed": false,
    "pycharm": {
     "name": "#%%\n"
    }
   }
  },
  {
   "cell_type": "code",
   "execution_count": 54,
   "outputs": [
    {
     "data": {
      "text/plain": "<Figure size 720x432 with 1 Axes>",
      "image/png": "[encoded data removed]"
     },
     "metadata": {
      "needs_background": "light"
     },
     "output_type": "display_data"
    }
   ],
   "source": [
    "# figsize로 가로 세로 크기 지정\n",
    "fig = plt.figure(figsize=(10, 6))\n",
    "ax = fig.add_subplot(1, 1, 1)\n",
    "\n",
    "# 계급수를 10으로 하여 히스토그램을 그림\n",
    "freq, _, _ = ax.hist(english_scores, bins=10, range=(0, 100))\n",
    "ax.set_xlabel(\"score\")\n",
    "ax.set_ylabel(\"person number\")\n",
    "# x축을 0, 10, 20, ..., 100 눈금으로 구분\n",
    "ax.set_xticks(np.linspace(0, 100, 10+1))\n",
    "ax.set_yticks(np.arange(0, freq.max()+1))\n",
    "plt.show()"
   ],
   "metadata": {
    "collapsed": false,
    "pycharm": {
     "name": "#%%\n"
    }
   }
  },
  {
   "cell_type": "markdown",
   "source": [
    "지금 까지 계급수를 10으로 지정했지만, 계끕수를 늘리면 더 세부적인 데이터의 분포를 볼 수 있따. 계급수를 25, 즉 계급폭을 4점으로 하여 히스토그램을 출력해보자."
   ],
   "metadata": {
    "collapsed": false,
    "pycharm": {
     "name": "#%% md\n"
    }
   }
  },
  {
   "cell_type": "code",
   "execution_count": 56,
   "outputs": [
    {
     "data": {
      "text/plain": "<Figure size 720x432 with 1 Axes>",
      "image/png": "[encoded data removed]"
     },
     "metadata": {
      "needs_background": "light"
     },
     "output_type": "display_data"
    }
   ],
   "source": [
    "# figsize로 가로 세로 크기 지정\n",
    "fig = plt.figure(figsize=(10, 6))\n",
    "ax = fig.add_subplot(1, 1, 1)\n",
    "\n",
    "# 계급수를 10으로 하여 히스토그램을 그림\n",
    "freq, _, _ = ax.hist(english_scores, bins=25, range=(0, 100))\n",
    "ax.set_xlabel(\"score\")\n",
    "ax.set_ylabel(\"person number\")\n",
    "# x축을 0, 10, 20, ..., 100 눈금으로 구분\n",
    "ax.set_xticks(np.linspace(0, 100, 25+1))\n",
    "ax.set_yticks(np.arange(0, freq.max()+1))\n",
    "plt.show()"
   ],
   "metadata": {
    "collapsed": false,
    "pycharm": {
     "name": "#%%\n"
    }
   }
  },
  {
   "cell_type": "markdown",
   "source": [
    "계급폭을 변경하니 히스토그램의 모양이 크게 변했다. 도수분포표와 히스토그램은 계급수에 따라 모양이 크게 변하므로 데이터에 다라 적절한 값으로 설정하는 것이 좋다.\n",
    "\n",
    "마지막으로 상대도수의 히스토그램을 누적상대도수의 꺾은선 그래프와 함께 그려보자\n",
    "(히스토그램과 누적상대도수)"
   ],
   "metadata": {
    "collapsed": false,
    "pycharm": {
     "name": "#%% md\n"
    }
   }
  },
  {
   "cell_type": "code",
   "execution_count": 69,
   "outputs": [
    {
     "data": {
      "text/plain": "<Figure size 720x432 with 2 Axes>",
      "image/png": "[encoded data removed]"
     },
     "metadata": {
      "needs_background": "light"
     },
     "output_type": "display_data"
    }
   ],
   "source": [
    "# figsize로 가로 세로 크기 지정\n",
    "fig = plt.figure(figsize=(10, 6))\n",
    "ax1 = fig.add_subplot(1, 1, 1)\n",
    "# Y축의 스케일이 다른 그래프를 ax1과 동일한 영역에 생성\n",
    "ax2 = ax1.twinx()\n",
    "\n",
    "# 상대도수의 히스토그램으로 하기 위해서는, 도수를 데이터의 수로 나눌 필요가 있다.\n",
    "# 이것은 hist의 인수 weight를 지정하면 실현 가능\n",
    "weights = np.ones_like(english_scores) / len(english_scores)\n",
    "req_freq, _, _ = ax1.hist(english_scores, bins=25, range=(0, 100), weights=weights)\n",
    "\n",
    "\n",
    "cum_rel_freq = np.cumsum(req_freq)\n",
    "class_value = [(i + (i + 4)) // 2 for i in range(0, 100, 4)]\n",
    "\n",
    "# 꺾은선 그래프를 그림\n",
    "ax2.plot(class_value, cum_rel_freq, ls=\"--\", marker=\"o\", color=\"gray\")\n",
    "ax2.grid(visible=False) # 꺾은선 그래프의 눈금선을 제거\n",
    "\n",
    "\n",
    "# 계급수를 10으로 하여 히스토그램을 그림\n",
    "freq, _, _ = ax1.hist(english_scores, bins=25, range=(0, 100))\n",
    "ax1.set_xlabel(\"score\")\n",
    "ax1.set_ylabel(\"relative frequency\")\n",
    "ax2.set_ylabel(\"cumulative relative frequency\")\n",
    "\n",
    "# x축을 0, 10, 20, ..., 100 눈금으로 구분\n",
    "ax1.set_xticks(np.linspace(0, 100, 25+1))\n",
    "plt.show()"
   ],
   "metadata": {
    "collapsed": false,
    "pycharm": {
     "name": "#%%\n"
    }
   }
  },
  {
   "cell_type": "markdown",
   "source": [
    "## 2.4.3 상자그림(box plot)\n",
    "\n",
    "상자그림은 데이터의 산포도를 표현하는 그림이다. 상자그림을 그리면 데이터의 분포와 이상값을 시각적으로 파악할 수 있다.\n",
    "\n",
    "상자그림에서는 분위수 범위의 Q1, Q2, Q3, IQR을 사용한다.\n",
    "상자는 Q1부터 Q3을 나타내고, 수염은 Q1-1.5IQR부터 Q3+1.5IQR을 나타낸다. 여기에 들어가지 않은 데이터는 이상값이 된다.\n"
   ],
   "metadata": {
    "collapsed": false,
    "pycharm": {
     "name": "#%% md\n"
    }
   }
  },
  {
   "cell_type": "code",
   "execution_count": 71,
   "outputs": [
    {
     "data": {
      "text/plain": "<Figure size 360x432 with 1 Axes>",
      "image/png": "[encoded data removed]"
     },
     "metadata": {
      "needs_background": "light"
     },
     "output_type": "display_data"
    }
   ],
   "source": [
    "fig = plt.figure(figsize=(5,6))\n",
    "ax = fig.add_subplot(1, 1, 1)\n",
    "ax.boxplot(english_scores, labels=[\"English\"])\n",
    "\n",
    "plt.show()\n",
    "\n",
    "# 상자그림에서도 60점 전후의 점수를 받은 학생이 많다는 것을 알 수 있다."
   ],
   "metadata": {
    "collapsed": false,
    "pycharm": {
     "name": "#%%\n"
    }
   }
  }
 ],
 "metadata": {
  "kernelspec": {
   "display_name": "Python 3",
   "language": "python",
   "name": "python3"
  },
  "language_info": {
   "codemirror_mode": {
    "name": "ipython",
    "version": 2
   },
   "file_extension": ".py",
   "mimetype": "text/x-python",
   "name": "python",
   "nbconvert_exporter": "python",
   "pygments_lexer": "ipython2",
   "version": "2.7.6"
  }
 },
 "nbformat": 4,
 "nbformat_minor": 0
}