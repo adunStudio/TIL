{
 "cells": [
  {
   "cell_type": "code",
   "execution_count": 2,
   "metadata": {
    "collapsed": true,
    "pycharm": {
     "name": "#%%\n"
    }
   },
   "outputs": [
    {
     "data": {
      "text/plain": "         english  mathematics\nstudent                      \nA             42           65\nB             69           80\nC             56           63\nD             41           63\nE             57           76\nF             48           60\nG             65           81\nH             49           66\nI             65           78\nJ             58           82",
      "text/html": "<div>\n<style scoped>\n    .dataframe tbody tr th:only-of-type {\n        vertical-align: middle;\n    }\n\n    .dataframe tbody tr th {\n        vertical-align: top;\n    }\n\n    .dataframe thead th {\n        text-align: right;\n    }\n</style>\n<table border=\"1\" class=\"dataframe\">\n  <thead>\n    <tr style=\"text-align: right;\">\n      <th></th>\n      <th>english</th>\n      <th>mathematics</th>\n    </tr>\n    <tr>\n      <th>student</th>\n      <th></th>\n      <th></th>\n    </tr>\n  </thead>\n  <tbody>\n    <tr>\n      <th>A</th>\n      <td>42</td>\n      <td>65</td>\n    </tr>\n    <tr>\n      <th>B</th>\n      <td>69</td>\n      <td>80</td>\n    </tr>\n    <tr>\n      <th>C</th>\n      <td>56</td>\n      <td>63</td>\n    </tr>\n    <tr>\n      <th>D</th>\n      <td>41</td>\n      <td>63</td>\n    </tr>\n    <tr>\n      <th>E</th>\n      <td>57</td>\n      <td>76</td>\n    </tr>\n    <tr>\n      <th>F</th>\n      <td>48</td>\n      <td>60</td>\n    </tr>\n    <tr>\n      <th>G</th>\n      <td>65</td>\n      <td>81</td>\n    </tr>\n    <tr>\n      <th>H</th>\n      <td>49</td>\n      <td>66</td>\n    </tr>\n    <tr>\n      <th>I</th>\n      <td>65</td>\n      <td>78</td>\n    </tr>\n    <tr>\n      <th>J</th>\n      <td>58</td>\n      <td>82</td>\n    </tr>\n  </tbody>\n</table>\n</div>"
     },
     "execution_count": 2,
     "metadata": {},
     "output_type": "execute_result"
    }
   ],
   "source": [
    "import numpy as np\n",
    "import pandas as pd\n",
    "\n",
    "# 쥬피터와 DataFrame의 출력을 소수점 이하 3자리로 제한\n",
    "%precision 3\n",
    "pd.set_option(\"display.precision\", 3)\n",
    "\n",
    "df = pd.read_csv(\"../data/ch2_scores_em.csv\", index_col=\"student number\")\n",
    "\n",
    "en_scores = np.array(df[\"english\"])[:10]\n",
    "ma_scores = np.array(df[\"mathematics\"])[:10]\n",
    "\n",
    "scores_df = pd.DataFrame({\"english\": en_scores, \"mathematics\": ma_scores}, index=pd.Index(['A', 'B', 'C', 'D', 'E', 'F', 'G', 'H', 'I', 'J'], name=\"student\"))\n",
    "scores_df"
   ]
  },
  {
   "cell_type": "markdown",
   "source": [
    "# 3.1 두 데이터의 사이의 관계를 나타내는 지표\n",
    "영어 점수가 높은 학생일수록 수학 점수도 높은 경향이 있다면, 영어 점수와 수학 점수는 **양의 상관**관계에 있다고 한다.\n",
    "거꾸로 영어 점수가 높은 학생일수록 수학 점수가 낮은 경향이 있다면, 영어 점수와 수학 점수는 **음의 상관**관계에 있다고 한다.\n",
    "그 어느쪽도 해당하지 않고 영어 점수가 수학 점수에 직접적으로 영향을 미치지 않을 때, **무상관**이라고 한다."
   ],
   "metadata": {
    "collapsed": false,
    "pycharm": {
     "name": "#%% md\n"
    }
   }
  },
  {
   "cell_type": "markdown",
   "source": [
    "## 3.1.1 공분산\n",
    "양의 상관관계에 있다고 생각되는 데이터의 관계성을 어떻게 수치화하면 좋을까?\n",
    "**공분산**(covariance)이라는 지표를 사용한다.\n",
    "공분산은 분산에 가까운 지표다.\n",
    "\n",
    "공분산이 분산과 다른 점은, 가로축과 세로축의 데이터가 다르므로 편차들로 만든 도형이 직사각형이 될 분만 아니라 음의 면적도 얻을 수 있다는 점이다.\n",
    "(분산은 가령 편차가 음의 값이어도 면적은 제곱값이므로 면적은 항상 양의 값이 된다.)\n",
    "\n",
    "이철머 '부호를 붙인 면적'이라는 관점에서 면적이 양의 값ㅇ리 되는 것은 영어 점수와 수학 점수가 모두 평균보다 높거나 모두 평균 점수보다 낮은 경우이므로 점수의 상관관계를 잘 나타낸다고 볼 수 있다.\n",
    "\n",
    "공분산이 양의 값이면 양의 값이 되는 데이터가 많다는 뜻이므로 양의 상관관계에 있고, 반대로 공분산이 음의 값이면 면적이 음의 값이 되는 데이터가 많다느 ㄴ뜻이므로 음으 상관관계에 있다고 할 수 있따. 그 어느쪽도 아니고 공분산이 0에 가까우면 무상관을 나타낸다."
   ],
   "metadata": {
    "collapsed": false,
    "pycharm": {
     "name": "#%% md\n"
    }
   }
  },
  {
   "cell_type": "code",
   "execution_count": 8,
   "outputs": [
    {
     "data": {
      "text/plain": "         english  mathematics  english_deviation  mathematics_deviation  \\\nstudent                                                                   \nA             42           65              -13.0                   -6.4   \nB             69           80               14.0                    8.6   \nC             56           63                1.0                   -8.4   \nD             41           63              -14.0                   -8.4   \nE             57           76                2.0                    4.6   \nF             48           60               -7.0                  -11.4   \nG             65           81               10.0                    9.6   \nH             49           66               -6.0                   -5.4   \nI             65           78               10.0                    6.6   \nJ             58           82                3.0                   10.6   \n\n         product of deviations  \nstudent                         \nA                         83.2  \nB                        120.4  \nC                         -8.4  \nD                        117.6  \nE                          9.2  \nF                         79.8  \nG                         96.0  \nH                         32.4  \nI                         66.0  \nJ                         31.8  ",
      "text/html": "<div>\n<style scoped>\n    .dataframe tbody tr th:only-of-type {\n        vertical-align: middle;\n    }\n\n    .dataframe tbody tr th {\n        vertical-align: top;\n    }\n\n    .dataframe thead th {\n        text-align: right;\n    }\n</style>\n<table border=\"1\" class=\"dataframe\">\n  <thead>\n    <tr style=\"text-align: right;\">\n      <th></th>\n      <th>english</th>\n      <th>mathematics</th>\n      <th>english_deviation</th>\n      <th>mathematics_deviation</th>\n      <th>product of deviations</th>\n    </tr>\n    <tr>\n      <th>student</th>\n      <th></th>\n      <th></th>\n      <th></th>\n      <th></th>\n      <th></th>\n    </tr>\n  </thead>\n  <tbody>\n    <tr>\n      <th>A</th>\n      <td>42</td>\n      <td>65</td>\n      <td>-13.0</td>\n      <td>-6.4</td>\n      <td>83.2</td>\n    </tr>\n    <tr>\n      <th>B</th>\n      <td>69</td>\n      <td>80</td>\n      <td>14.0</td>\n      <td>8.6</td>\n      <td>120.4</td>\n    </tr>\n    <tr>\n      <th>C</th>\n      <td>56</td>\n      <td>63</td>\n      <td>1.0</td>\n      <td>-8.4</td>\n      <td>-8.4</td>\n    </tr>\n    <tr>\n      <th>D</th>\n      <td>41</td>\n      <td>63</td>\n      <td>-14.0</td>\n      <td>-8.4</td>\n      <td>117.6</td>\n    </tr>\n    <tr>\n      <th>E</th>\n      <td>57</td>\n      <td>76</td>\n      <td>2.0</td>\n      <td>4.6</td>\n      <td>9.2</td>\n    </tr>\n    <tr>\n      <th>F</th>\n      <td>48</td>\n      <td>60</td>\n      <td>-7.0</td>\n      <td>-11.4</td>\n      <td>79.8</td>\n    </tr>\n    <tr>\n      <th>G</th>\n      <td>65</td>\n      <td>81</td>\n      <td>10.0</td>\n      <td>9.6</td>\n      <td>96.0</td>\n    </tr>\n    <tr>\n      <th>H</th>\n      <td>49</td>\n      <td>66</td>\n      <td>-6.0</td>\n      <td>-5.4</td>\n      <td>32.4</td>\n    </tr>\n    <tr>\n      <th>I</th>\n      <td>65</td>\n      <td>78</td>\n      <td>10.0</td>\n      <td>6.6</td>\n      <td>66.0</td>\n    </tr>\n    <tr>\n      <th>J</th>\n      <td>58</td>\n      <td>82</td>\n      <td>3.0</td>\n      <td>10.6</td>\n      <td>31.8</td>\n    </tr>\n  </tbody>\n</table>\n</div>"
     },
     "execution_count": 8,
     "metadata": {},
     "output_type": "execute_result"
    }
   ],
   "source": [
    "summary_df = scores_df.copy()\n",
    "summary_df[\"english_deviation\"] = summary_df[\"english\"] - summary_df[\"english\"].mean()\n",
    "summary_df[\"mathematics_deviation\"] = summary_df[\"mathematics\"] - summary_df[\"mathematics\"].mean()\n",
    "summary_df[\"product of deviations\"] = summary_df[\"english_deviation\"] * summary_df[\"mathematics_deviation\"]\n",
    "summary_df"
   ],
   "metadata": {
    "collapsed": false,
    "pycharm": {
     "name": "#%%\n"
    }
   }
  },
  {
   "cell_type": "code",
   "execution_count": 10,
   "outputs": [
    {
     "data": {
      "text/plain": "62.800"
     },
     "execution_count": 10,
     "metadata": {},
     "output_type": "execute_result"
    }
   ],
   "source": [
    "summary_df[\"product of deviations\"].mean()\n",
    "# 62.800 -> 양수이므로 영어 점수와 수학 점수는 양의 상관관계에 잇다고 할 수 있다."
   ],
   "metadata": {
    "collapsed": false,
    "pycharm": {
     "name": "#%%\n"
    }
   }
  },
  {
   "cell_type": "markdown",
   "source": [
    "Numpy의 경우, 공분산은 cov 함수로 구할 수 있다. 다만, 반환값은 공분산값이 아닌 **공분산 행렬**또는 **분산공분산 행렬**이라고 부르는 행렬이다."
   ],
   "metadata": {
    "collapsed": false,
    "pycharm": {
     "name": "#%% md\n"
    }
   }
  },
  {
   "cell_type": "code",
   "execution_count": 18,
   "outputs": [
    {
     "data": {
      "text/plain": "array([[86.  , 62.8 ],\n       [62.8 , 68.44]])"
     },
     "execution_count": 18,
     "metadata": {},
     "output_type": "execute_result"
    }
   ],
   "source": [
    "cov_mat = np.cov(en_scores, ma_scores, ddof=0)\n",
    "cov_mat"
   ],
   "metadata": {
    "collapsed": false,
    "pycharm": {
     "name": "#%%\n"
    }
   }
  },
  {
   "cell_type": "markdown",
   "source": [
    "이 행렬의 첫번째 행과 첫 번째 열이 첫 번째 인수인 영어, 두 번째 행과 두번째 열이 두번째 인수인 수학에 각각 대응하고,\n",
    "이것들의 교차하여 1행2열 성분과 2행 1열 성분이 영어와 수학의 공분산에 해당한다.\n",
    "파이썬 인덱스는 0부터 시작하므로 결국 cov_mat의 [0, 1] 성분과 [1, 0] 성분이 공분산이 된다.\n",
    "\n",
    "[0,0] -> 영어의 분산\n",
    "[1,1] -> 수학의 분산"
   ],
   "metadata": {
    "collapsed": false,
    "pycharm": {
     "name": "#%% md\n"
    }
   }
  },
  {
   "cell_type": "code",
   "execution_count": 19,
   "outputs": [
    {
     "data": {
      "text/plain": "(86.000, 68.440)"
     },
     "execution_count": 19,
     "metadata": {},
     "output_type": "execute_result"
    }
   ],
   "source": [
    "np.var(en_scores, ddof=0), np.var(ma_scores, ddof=0) # 분산과 일치한다."
   ],
   "metadata": {
    "collapsed": false,
    "pycharm": {
     "name": "#%%\n"
    }
   }
  },
  {
   "cell_type": "markdown",
   "source": [
    "## 3.1.2 상관계수\n",
    "앞에서 공분산을 계산하여 데이터의 상관관계를 표현했다.\n",
    "시험 점수들 간에 공분산은 (점수 x 점수)라는 단위를 사용한다.\n",
    "그러나 학생의 키와 시험 점수의 상관관계를 살펴본다면, (cm x 점수)라는 단위가 사용된다. 분산과 마찬가지로 이런 단위는 직감적으로 이해하기 어렵다.\n",
    "\n",
    "따라서 단위에 의존하지 않는 상관을 나타내는 지표가 필요하다. 공분산은 각 데이터의 단위를 곱한 것이므로, 공분산을 각 데이터의 표준편차로 나누어 단위에 의존하지 않는 지표를 정의할 수 있다.\n",
    "\n",
    "이와 같이 정의된 지표를 **상관 계수**(correlation coefficient)라고 한다.\n",
    "상관계수는 반드시 -1과 1 사이의 값을 취하고, 데이터가 양의 상관관계에 놓여 있을수록 1에 가까워지고, 음의 상관관계에 놓여 있을수록 -1에 가까워진다. 무상관이면 0이 된다.\n",
    "상관계수가 -1일때와 1일때에는 데이터가 완전히 직선상에 놓인다."
   ],
   "metadata": {
    "collapsed": false,
    "pycharm": {
     "name": "#%% md\n"
    }
   }
  },
  {
   "cell_type": "code",
   "execution_count": 20,
   "outputs": [
    {
     "data": {
      "text/plain": "0.819"
     },
     "execution_count": 20,
     "metadata": {},
     "output_type": "execute_result"
    }
   ],
   "source": [
    "# 영어 점수와 수학 점수의 상관 계수를 구해보자\n",
    "np.cov(en_scores, ma_scores, ddof=0)[0, 1] / (np.std(en_scores) * np.std(ma_scores))"
   ],
   "metadata": {
    "collapsed": false,
    "pycharm": {
     "name": "#%%\n"
    }
   }
  },
  {
   "cell_type": "code",
   "execution_count": 21,
   "outputs": [
    {
     "data": {
      "text/plain": "array([[1.   , 0.819],\n       [0.819, 1.   ]])"
     },
     "execution_count": 21,
     "metadata": {},
     "output_type": "execute_result"
    }
   ],
   "source": [
    "# Numpy의 경우 상관계수는 corrcoef 함수로 계산할 수 있다. 다만, 반환값은 공분산의 경우와 마찬가지로 상관행렬이라고 부르는 행렬이다.\n",
    "np.corrcoef(en_scores, ma_scores)"
   ],
   "metadata": {
    "collapsed": false,
    "pycharm": {
     "name": "#%%\n"
    }
   }
  },
  {
   "cell_type": "code",
   "execution_count": 22,
   "outputs": [
    {
     "data": {
      "text/plain": "             english  mathematics\nenglish        1.000        0.819\nmathematics    0.819        1.000",
      "text/html": "<div>\n<style scoped>\n    .dataframe tbody tr th:only-of-type {\n        vertical-align: middle;\n    }\n\n    .dataframe tbody tr th {\n        vertical-align: top;\n    }\n\n    .dataframe thead th {\n        text-align: right;\n    }\n</style>\n<table border=\"1\" class=\"dataframe\">\n  <thead>\n    <tr style=\"text-align: right;\">\n      <th></th>\n      <th>english</th>\n      <th>mathematics</th>\n    </tr>\n  </thead>\n  <tbody>\n    <tr>\n      <th>english</th>\n      <td>1.000</td>\n      <td>0.819</td>\n    </tr>\n    <tr>\n      <th>mathematics</th>\n      <td>0.819</td>\n      <td>1.000</td>\n    </tr>\n  </tbody>\n</table>\n</div>"
     },
     "execution_count": 22,
     "metadata": {},
     "output_type": "execute_result"
    }
   ],
   "source": [
    "# DataFrame의 경우, corr 메서드와 동일한 결과를 얻을 수 있다.\n",
    "scores_df.corr()"
   ],
   "metadata": {
    "collapsed": false,
    "pycharm": {
     "name": "#%%\n"
    }
   }
  }
 ],
 "metadata": {
  "kernelspec": {
   "display_name": "Python 3",
   "language": "python",
   "name": "python3"
  },
  "language_info": {
   "codemirror_mode": {
    "name": "ipython",
    "version": 2
   },
   "file_extension": ".py",
   "mimetype": "text/x-python",
   "name": "python",
   "nbconvert_exporter": "python",
   "pygments_lexer": "ipython2",
   "version": "2.7.6"
  }
 },
 "nbformat": 4,
 "nbformat_minor": 0
}