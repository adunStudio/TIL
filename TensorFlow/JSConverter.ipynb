{
 "cells": [
  {
   "cell_type": "code",
   "execution_count": 4,
   "outputs": [
    {
     "name": "stdout",
     "output_type": "stream",
     "text": [
      "Requirement already satisfied: tensorflowjs in c:\\users\\hp\\miniconda3\\envs\\gpu2.6\\lib\\site-packages (3.18.0)\n",
      "Requirement already satisfied: tensorflow<3,>=2.1.0 in c:\\users\\hp\\miniconda3\\envs\\gpu2.6\\lib\\site-packages (from tensorflowjs) (2.6.0)\n",
      "Requirement already satisfied: tensorflow-hub<0.13,>=0.7.0 in c:\\users\\hp\\miniconda3\\envs\\gpu2.6\\lib\\site-packages (from tensorflowjs) (0.12.0)\n",
      "Requirement already satisfied: packaging~=20.9 in c:\\users\\hp\\miniconda3\\envs\\gpu2.6\\lib\\site-packages (from tensorflowjs) (20.9)\n",
      "Requirement already satisfied: six<2,>=1.12.0 in c:\\users\\hp\\miniconda3\\envs\\gpu2.6\\lib\\site-packages (from tensorflowjs) (1.16.0)\n",
      "Requirement already satisfied: pyparsing>=2.0.2 in c:\\users\\hp\\miniconda3\\envs\\gpu2.6\\lib\\site-packages (from packaging~=20.9->tensorflowjs) (3.0.9)\n",
      "Requirement already satisfied: protobuf>=3.9.2 in c:\\users\\hp\\miniconda3\\envs\\gpu2.6\\lib\\site-packages (from tensorflow<3,>=2.1.0->tensorflowjs) (3.17.2)\n",
      "Requirement already satisfied: numpy>=1.19 in c:\\users\\hp\\miniconda3\\envs\\gpu2.6\\lib\\site-packages (from tensorflow<3,>=2.1.0->tensorflowjs) (1.21.5)\n",
      "Requirement already satisfied: h5py>=3.1.0 in c:\\users\\hp\\miniconda3\\envs\\gpu2.6\\lib\\site-packages (from tensorflow<3,>=2.1.0->tensorflowjs) (3.6.0)\n",
      "Requirement already satisfied: termcolor>=1.1.0 in c:\\users\\hp\\miniconda3\\envs\\gpu2.6\\lib\\site-packages (from tensorflow<3,>=2.1.0->tensorflowjs) (1.1.0)\n",
      "Requirement already satisfied: opt-einsum~=3.3.0 in c:\\users\\hp\\miniconda3\\envs\\gpu2.6\\lib\\site-packages (from tensorflow<3,>=2.1.0->tensorflowjs) (3.3.0)\n",
      "Requirement already satisfied: astunparse~=1.6.3 in c:\\users\\hp\\miniconda3\\envs\\gpu2.6\\lib\\site-packages (from tensorflow<3,>=2.1.0->tensorflowjs) (1.6.3)\n",
      "Requirement already satisfied: tensorflow-estimator~=2.6 in c:\\users\\hp\\miniconda3\\envs\\gpu2.6\\lib\\site-packages (from tensorflow<3,>=2.1.0->tensorflowjs) (2.6.0)\n",
      "Requirement already satisfied: typing-extensions>=3.7.4 in c:\\users\\hp\\miniconda3\\envs\\gpu2.6\\lib\\site-packages (from tensorflow<3,>=2.1.0->tensorflowjs) (4.1.1)\n",
      "Requirement already satisfied: absl-py~=0.10 in c:\\users\\hp\\miniconda3\\envs\\gpu2.6\\lib\\site-packages (from tensorflow<3,>=2.1.0->tensorflowjs) (0.15.0)\n",
      "Requirement already satisfied: grpcio<2.0,>=1.37.0 in c:\\users\\hp\\miniconda3\\envs\\gpu2.6\\lib\\site-packages (from tensorflow<3,>=2.1.0->tensorflowjs) (1.42.0)\n",
      "Requirement already satisfied: keras-preprocessing>=1.1.2 in c:\\users\\hp\\miniconda3\\envs\\gpu2.6\\lib\\site-packages (from tensorflow<3,>=2.1.0->tensorflowjs) (1.1.2)\n",
      "Requirement already satisfied: wrapt>=1.11.2 in c:\\users\\hp\\miniconda3\\envs\\gpu2.6\\lib\\site-packages (from tensorflow<3,>=2.1.0->tensorflowjs) (1.13.3)\n",
      "Requirement already satisfied: tensorboard~=2.6 in c:\\users\\hp\\miniconda3\\envs\\gpu2.6\\lib\\site-packages (from tensorflow<3,>=2.1.0->tensorflowjs) (2.6.0)\n",
      "Requirement already satisfied: google-pasta~=0.2 in c:\\users\\hp\\miniconda3\\envs\\gpu2.6\\lib\\site-packages (from tensorflow<3,>=2.1.0->tensorflowjs) (0.2.0)\n",
      "Requirement already satisfied: flatbuffers~=1.12 in c:\\users\\hp\\miniconda3\\envs\\gpu2.6\\lib\\site-packages (from tensorflow<3,>=2.1.0->tensorflowjs) (1.12)\n",
      "Requirement already satisfied: keras>=2.4.0 in c:\\users\\hp\\miniconda3\\envs\\gpu2.6\\lib\\site-packages (from tensorflow<3,>=2.1.0->tensorflowjs) (2.6.0)\n",
      "Requirement already satisfied: clang~=5.0 in c:\\users\\hp\\miniconda3\\envs\\gpu2.6\\lib\\site-packages (from tensorflow<3,>=2.1.0->tensorflowjs) (5.0)\n",
      "Requirement already satisfied: wheel>=0.35 in c:\\users\\hp\\miniconda3\\envs\\gpu2.6\\lib\\site-packages (from tensorflow<3,>=2.1.0->tensorflowjs) (0.35.1)\n",
      "Requirement already satisfied: gast==0.4.0 in c:\\users\\hp\\miniconda3\\envs\\gpu2.6\\lib\\site-packages (from tensorflow<3,>=2.1.0->tensorflowjs) (0.4.0)\n",
      "Requirement already satisfied: cached-property in c:\\users\\hp\\miniconda3\\envs\\gpu2.6\\lib\\site-packages (from h5py>=3.1.0->tensorflow<3,>=2.1.0->tensorflowjs) (1.5.2)\n",
      "Requirement already satisfied: google-auth-oauthlib<0.5,>=0.4.1 in c:\\users\\hp\\miniconda3\\envs\\gpu2.6\\lib\\site-packages (from tensorboard~=2.6->tensorflow<3,>=2.1.0->tensorflowjs) (0.4.1)\n",
      "Requirement already satisfied: markdown>=2.6.8 in c:\\users\\hp\\miniconda3\\envs\\gpu2.6\\lib\\site-packages (from tensorboard~=2.6->tensorflow<3,>=2.1.0->tensorflowjs) (3.3.4)\n",
      "Requirement already satisfied: setuptools>=41.0.0 in c:\\users\\hp\\miniconda3\\envs\\gpu2.6\\lib\\site-packages (from tensorboard~=2.6->tensorflow<3,>=2.1.0->tensorflowjs) (61.2.0)\n",
      "Requirement already satisfied: tensorboard-data-server<0.7.0,>=0.6.0 in c:\\users\\hp\\miniconda3\\envs\\gpu2.6\\lib\\site-packages (from tensorboard~=2.6->tensorflow<3,>=2.1.0->tensorflowjs) (0.6.0)\n",
      "Requirement already satisfied: werkzeug>=0.11.15 in c:\\users\\hp\\miniconda3\\envs\\gpu2.6\\lib\\site-packages (from tensorboard~=2.6->tensorflow<3,>=2.1.0->tensorflowjs) (2.0.3)\n",
      "Requirement already satisfied: requests<3,>=2.21.0 in c:\\users\\hp\\miniconda3\\envs\\gpu2.6\\lib\\site-packages (from tensorboard~=2.6->tensorflow<3,>=2.1.0->tensorflowjs) (2.27.1)\n",
      "Requirement already satisfied: google-auth<2,>=1.6.3 in c:\\users\\hp\\miniconda3\\envs\\gpu2.6\\lib\\site-packages (from tensorboard~=2.6->tensorflow<3,>=2.1.0->tensorflowjs) (1.35.0)\n",
      "Requirement already satisfied: tensorboard-plugin-wit>=1.6.0 in c:\\users\\hp\\miniconda3\\envs\\gpu2.6\\lib\\site-packages (from tensorboard~=2.6->tensorflow<3,>=2.1.0->tensorflowjs) (1.6.0)\n",
      "Requirement already satisfied: pyasn1-modules>=0.2.1 in c:\\users\\hp\\miniconda3\\envs\\gpu2.6\\lib\\site-packages (from google-auth<2,>=1.6.3->tensorboard~=2.6->tensorflow<3,>=2.1.0->tensorflowjs) (0.2.8)\n",
      "Requirement already satisfied: rsa<5,>=3.1.4 in c:\\users\\hp\\miniconda3\\envs\\gpu2.6\\lib\\site-packages (from google-auth<2,>=1.6.3->tensorboard~=2.6->tensorflow<3,>=2.1.0->tensorflowjs) (4.7.2)\n",
      "Requirement already satisfied: cachetools<5.0,>=2.0.0 in c:\\users\\hp\\miniconda3\\envs\\gpu2.6\\lib\\site-packages (from google-auth<2,>=1.6.3->tensorboard~=2.6->tensorflow<3,>=2.1.0->tensorflowjs) (4.2.2)\n",
      "Requirement already satisfied: requests-oauthlib>=0.7.0 in c:\\users\\hp\\miniconda3\\envs\\gpu2.6\\lib\\site-packages (from google-auth-oauthlib<0.5,>=0.4.1->tensorboard~=2.6->tensorflow<3,>=2.1.0->tensorflowjs) (1.3.0)\n",
      "Requirement already satisfied: importlib-metadata in c:\\users\\hp\\miniconda3\\envs\\gpu2.6\\lib\\site-packages (from markdown>=2.6.8->tensorboard~=2.6->tensorflow<3,>=2.1.0->tensorflowjs) (4.11.3)\n",
      "Requirement already satisfied: idna<4,>=2.5 in c:\\users\\hp\\miniconda3\\envs\\gpu2.6\\lib\\site-packages (from requests<3,>=2.21.0->tensorboard~=2.6->tensorflow<3,>=2.1.0->tensorflowjs) (3.3)\n",
      "Requirement already satisfied: certifi>=2017.4.17 in c:\\users\\hp\\miniconda3\\envs\\gpu2.6\\lib\\site-packages (from requests<3,>=2.21.0->tensorboard~=2.6->tensorflow<3,>=2.1.0->tensorflowjs) (2022.6.15)\n",
      "Requirement already satisfied: urllib3<1.27,>=1.21.1 in c:\\users\\hp\\miniconda3\\envs\\gpu2.6\\lib\\site-packages (from requests<3,>=2.21.0->tensorboard~=2.6->tensorflow<3,>=2.1.0->tensorflowjs) (1.26.9)\n",
      "Requirement already satisfied: charset-normalizer~=2.0.0 in c:\\users\\hp\\miniconda3\\envs\\gpu2.6\\lib\\site-packages (from requests<3,>=2.21.0->tensorboard~=2.6->tensorflow<3,>=2.1.0->tensorflowjs) (2.0.4)\n",
      "Requirement already satisfied: pyasn1<0.5.0,>=0.4.6 in c:\\users\\hp\\miniconda3\\envs\\gpu2.6\\lib\\site-packages (from pyasn1-modules>=0.2.1->google-auth<2,>=1.6.3->tensorboard~=2.6->tensorflow<3,>=2.1.0->tensorflowjs) (0.4.8)\n",
      "Requirement already satisfied: oauthlib>=3.0.0 in c:\\users\\hp\\miniconda3\\envs\\gpu2.6\\lib\\site-packages (from requests-oauthlib>=0.7.0->google-auth-oauthlib<0.5,>=0.4.1->tensorboard~=2.6->tensorflow<3,>=2.1.0->tensorflowjs) (3.1.0)\n",
      "Requirement already satisfied: zipp>=0.5 in c:\\users\\hp\\miniconda3\\envs\\gpu2.6\\lib\\site-packages (from importlib-metadata->markdown>=2.6.8->tensorboard~=2.6->tensorflow<3,>=2.1.0->tensorflowjs) (3.8.0)\n"
     ]
    }
   ],
   "source": [
    "!pip install tensorflowjs"
   ],
   "metadata": {
    "collapsed": false,
    "pycharm": {
     "name": "#%%\n"
    }
   }
  },
  {
   "cell_type": "code",
   "execution_count": 7,
   "outputs": [
    {
     "name": "stdout",
     "output_type": "stream",
     "text": [
      "Writing weight file C:\\Users\\HP\\Documents\\GitHub\\TIL\\TensorFlow\\js\\model.json...\n"
     ]
    },
    {
     "name": "stderr",
     "output_type": "stream",
     "text": [
      "2022-07-20 00:23:19.372880: I tensorflow/core/platform/cpu_feature_guard.cc:142] This TensorFlow binary is optimized with oneAPI Deep Neural Network Library (oneDNN) to use the following CPU instructions in performance-critical operations:  AVX AVX2\n",
      "To enable them in other operations, rebuild TensorFlow with the appropriate compiler flags.\n",
      "2022-07-20 00:23:19.831553: I tensorflow/core/common_runtime/gpu/gpu_device.cc:1510] Created device /job:localhost/replica:0/task:0/device:GPU:0 with 3235 MB memory:  -> device: 0, name: NVIDIA GeForce RTX 3060 Laptop GPU, pci bus id: 0000:01:00.0, compute capability: 8.6\n",
      "WARNING:tensorflow:Compiled the loaded model, but the compiled metrics have yet to be built. `model.compile_metrics` will be empty until you train or evaluate the model.\n",
      "2022-07-20 00:23:21.745783: W tensorflow/python/util/util.cc:348] Sets are not currently considered sequences, but this may change in the future, so consider avoiding using them.\n",
      "2022-07-20 00:23:25.973944: I tensorflow/core/grappler/devices.cc:66] Number of eligible GPUs (core count >= 8, compute capability >= 0.0): 1\n",
      "2022-07-20 00:23:25.974466: I tensorflow/core/grappler/clusters/single_machine.cc:357] Starting new session\n",
      "2022-07-20 00:23:25.976252: I tensorflow/core/common_runtime/gpu/gpu_device.cc:1510] Created device /job:localhost/replica:0/task:0/device:GPU:0 with 3235 MB memory:  -> device: 0, name: NVIDIA GeForce RTX 3060 Laptop GPU, pci bus id: 0000:01:00.0, compute capability: 8.6\n",
      "2022-07-20 00:23:26.000855: I tensorflow/core/grappler/optimizers/meta_optimizer.cc:1137] Optimization results for grappler item: graph_to_optimize\n",
      "  function_optimizer: Graph size after: 162 nodes (126), 226 edges (190), time = 3.764ms.\n",
      "  function_optimizer: function_optimizer did nothing. time = 0.052ms.\n",
      "\n",
      "2022-07-20 00:23:28.794324: I tensorflow/core/grappler/optimizers/meta_optimizer.cc:1137] Optimization results for grappler item: graph_to_optimize\n",
      "  debug_stripper: debug_stripper did nothing. time = 0.011ms.\n",
      "  model_pruner: Graph size after: 127 nodes (-35), 191 edges (-35), time = 65.351ms.\n",
      "  constant_folding: Graph size after: 91 nodes (-36), 150 edges (-41), time = 411.418ms.\n",
      "  arithmetic_optimizer: Graph size after: 91 nodes (0), 150 edges (0), time = 62.904ms.\n",
      "  dependency_optimizer: Graph size after: 83 nodes (-8), 82 edges (-68), time = 31.669ms.\n",
      "  model_pruner: Graph size after: 83 nodes (0), 82 edges (0), time = 26.071ms.\n",
      "  constant_folding: Graph size after: 83 nodes (0), 82 edges (0), time = 108.791ms.\n",
      "  arithmetic_optimizer: Graph size after: 83 nodes (0), 82 edges (0), time = 56.838ms.\n",
      "  dependency_optimizer: Graph size after: 83 nodes (0), 82 edges (0), time = 27.489ms.\n",
      "  debug_stripper: debug_stripper did nothing. time = 4.623ms.\n",
      "  model_pruner: Graph size after: 83 nodes (0), 82 edges (0), time = 22.183ms.\n",
      "  constant_folding: Graph size after: 83 nodes (0), 82 edges (0), time = 108.696ms.\n",
      "  arithmetic_optimizer: Graph size after: 83 nodes (0), 82 edges (0), time = 52.69ms.\n",
      "  dependency_optimizer: Graph size after: 83 nodes (0), 82 edges (0), time = 22.984ms.\n",
      "  model_pruner: Graph size after: 83 nodes (0), 82 edges (0), time = 23.278ms.\n",
      "  constant_folding: Graph size after: 83 nodes (0), 82 edges (0), time = 95.106ms.\n",
      "  arithmetic_optimizer: Graph size after: 83 nodes (0), 82 edges (0), time = 54.111ms.\n",
      "  dependency_optimizer: Graph size after: 83 nodes (0), 82 edges (0), time = 26.016ms.\n",
      "\n",
      "2022-07-20 00:24:12.195133: I tensorflow/core/grappler/optimizers/meta_optimizer.cc:1137] Optimization results for grappler item: graph_to_optimize\n",
      "  remapper: Graph size after: 56 nodes (-27), 55 edges (-27), time = 92.202ms.\n",
      "  constant_folding: Graph size after: 56 nodes (0), 55 edges (0), time = 91.88ms.\n",
      "  arithmetic_optimizer: Graph size after: 56 nodes (0), 55 edges (0), time = 59.13ms.\n",
      "  dependency_optimizer: Graph size after: 56 nodes (0), 55 edges (0), time = 31.143ms.\n",
      "  remapper: Graph size after: 56 nodes (0), 55 edges (0), time = 33.206ms.\n",
      "  constant_folding: Graph size after: 56 nodes (0), 55 edges (0), time = 88.489ms.\n",
      "  arithmetic_optimizer: Graph size after: 56 nodes (0), 55 edges (0), time = 62.058ms.\n",
      "  dependency_optimizer: Graph size after: 56 nodes (0), 55 edges (0), time = 31.889ms.\n",
      "\n"
     ]
    }
   ],
   "source": [
    "!tensorflowjs_converter --input_format keras --output_format=tfjs_graph_model C:\\Users\\HP\\Documents\\GitHub\\TIL\\TensorFlow\\model_VGG.h5 C:\\Users\\HP\\Documents\\GitHub\\TIL\\TensorFlow\\js"
   ],
   "metadata": {
    "collapsed": false,
    "pycharm": {
     "name": "#%%\n"
    }
   }
  },
  {
   "cell_type": "code",
   "execution_count": 5,
   "outputs": [],
   "source": [],
   "metadata": {
    "collapsed": false,
    "pycharm": {
     "name": "#%%\n"
    }
   }
  }
 ],
 "metadata": {
  "kernelspec": {
   "display_name": "Python 3",
   "language": "python",
   "name": "python3"
  },
  "language_info": {
   "codemirror_mode": {
    "name": "ipython",
    "version": 2
   },
   "file_extension": ".py",
   "mimetype": "text/x-python",
   "name": "python",
   "nbconvert_exporter": "python",
   "pygments_lexer": "ipython2",
   "version": "2.7.6"
  }
 },
 "nbformat": 4,
 "nbformat_minor": 0
}