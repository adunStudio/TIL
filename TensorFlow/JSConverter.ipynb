{
 "cells": [
  {
   "cell_type": "code",
   "execution_count": 1,
   "outputs": [
    {
     "name": "stdout",
     "output_type": "stream",
     "text": [
      "Collecting tensorflowjs\n",
      "  Downloading tensorflowjs-3.18.0-py3-none-any.whl (77 kB)\n",
      "     ---------------------------------------- 77.5/77.5 kB 4.2 MB/s eta 0:00:00\n",
      "Collecting packaging~=20.9\n",
      "  Downloading packaging-20.9-py2.py3-none-any.whl (40 kB)\n",
      "     ---------------------------------------- 40.9/40.9 kB 1.9 MB/s eta 0:00:00\n",
      "Collecting tensorflow-hub<0.13,>=0.7.0\n",
      "  Downloading tensorflow_hub-0.12.0-py2.py3-none-any.whl (108 kB)\n",
      "     ---------------------------------------- 108.8/108.8 kB ? eta 0:00:00\n",
      "Requirement already satisfied: six<2,>=1.12.0 in c:\\users\\hp\\miniconda3\\envs\\gpu2.6\\lib\\site-packages (from tensorflowjs) (1.16.0)\n",
      "Requirement already satisfied: tensorflow<3,>=2.1.0 in c:\\users\\hp\\miniconda3\\envs\\gpu2.6\\lib\\site-packages (from tensorflowjs) (2.6.0)\n",
      "Requirement already satisfied: pyparsing>=2.0.2 in c:\\users\\hp\\miniconda3\\envs\\gpu2.6\\lib\\site-packages (from packaging~=20.9->tensorflowjs) (3.0.9)\n",
      "Requirement already satisfied: protobuf>=3.9.2 in c:\\users\\hp\\miniconda3\\envs\\gpu2.6\\lib\\site-packages (from tensorflow<3,>=2.1.0->tensorflowjs) (3.17.2)\n",
      "Requirement already satisfied: grpcio<2.0,>=1.37.0 in c:\\users\\hp\\miniconda3\\envs\\gpu2.6\\lib\\site-packages (from tensorflow<3,>=2.1.0->tensorflowjs) (1.42.0)\n",
      "Collecting flatbuffers~=1.12\n",
      "  Using cached flatbuffers-1.12-py2.py3-none-any.whl (15 kB)\n",
      "Requirement already satisfied: termcolor>=1.1.0 in c:\\users\\hp\\miniconda3\\envs\\gpu2.6\\lib\\site-packages (from tensorflow<3,>=2.1.0->tensorflowjs) (1.1.0)\n",
      "Requirement already satisfied: h5py>=3.1.0 in c:\\users\\hp\\miniconda3\\envs\\gpu2.6\\lib\\site-packages (from tensorflow<3,>=2.1.0->tensorflowjs) (3.6.0)\n",
      "Requirement already satisfied: astunparse~=1.6.3 in c:\\users\\hp\\miniconda3\\envs\\gpu2.6\\lib\\site-packages (from tensorflow<3,>=2.1.0->tensorflowjs) (1.6.3)\n",
      "Requirement already satisfied: tensorboard~=2.6 in c:\\users\\hp\\miniconda3\\envs\\gpu2.6\\lib\\site-packages (from tensorflow<3,>=2.1.0->tensorflowjs) (2.6.0)\n",
      "Requirement already satisfied: wrapt>=1.11.2 in c:\\users\\hp\\miniconda3\\envs\\gpu2.6\\lib\\site-packages (from tensorflow<3,>=2.1.0->tensorflowjs) (1.13.3)\n",
      "Requirement already satisfied: opt-einsum~=3.3.0 in c:\\users\\hp\\miniconda3\\envs\\gpu2.6\\lib\\site-packages (from tensorflow<3,>=2.1.0->tensorflowjs) (3.3.0)\n",
      "Requirement already satisfied: tensorflow-estimator~=2.6 in c:\\users\\hp\\miniconda3\\envs\\gpu2.6\\lib\\site-packages (from tensorflow<3,>=2.1.0->tensorflowjs) (2.6.0)\n",
      "Requirement already satisfied: keras>=2.4.0 in c:\\users\\hp\\miniconda3\\envs\\gpu2.6\\lib\\site-packages (from tensorflow<3,>=2.1.0->tensorflowjs) (2.6.0)\n",
      "Requirement already satisfied: typing-extensions>=3.7.4 in c:\\users\\hp\\miniconda3\\envs\\gpu2.6\\lib\\site-packages (from tensorflow<3,>=2.1.0->tensorflowjs) (4.1.1)\n",
      "Requirement already satisfied: google-pasta~=0.2 in c:\\users\\hp\\miniconda3\\envs\\gpu2.6\\lib\\site-packages (from tensorflow<3,>=2.1.0->tensorflowjs) (0.2.0)\n",
      "Requirement already satisfied: numpy>=1.19 in c:\\users\\hp\\miniconda3\\envs\\gpu2.6\\lib\\site-packages (from tensorflow<3,>=2.1.0->tensorflowjs) (1.21.5)\n",
      "Requirement already satisfied: gast==0.4.0 in c:\\users\\hp\\miniconda3\\envs\\gpu2.6\\lib\\site-packages (from tensorflow<3,>=2.1.0->tensorflowjs) (0.4.0)\n",
      "Requirement already satisfied: keras-preprocessing>=1.1.2 in c:\\users\\hp\\miniconda3\\envs\\gpu2.6\\lib\\site-packages (from tensorflow<3,>=2.1.0->tensorflowjs) (1.1.2)\n",
      "Requirement already satisfied: wheel>=0.35 in c:\\users\\hp\\miniconda3\\envs\\gpu2.6\\lib\\site-packages (from tensorflow<3,>=2.1.0->tensorflowjs) (0.35.1)\n",
      "Collecting clang~=5.0\n",
      "  Downloading clang-5.0.tar.gz (30 kB)\n",
      "  Preparing metadata (setup.py): started\n",
      "  Preparing metadata (setup.py): finished with status 'done'\n",
      "Requirement already satisfied: absl-py~=0.10 in c:\\users\\hp\\miniconda3\\envs\\gpu2.6\\lib\\site-packages (from tensorflow<3,>=2.1.0->tensorflowjs) (0.15.0)\n",
      "Requirement already satisfied: cached-property in c:\\users\\hp\\miniconda3\\envs\\gpu2.6\\lib\\site-packages (from h5py>=3.1.0->tensorflow<3,>=2.1.0->tensorflowjs) (1.5.2)\n",
      "Requirement already satisfied: google-auth-oauthlib<0.5,>=0.4.1 in c:\\users\\hp\\miniconda3\\envs\\gpu2.6\\lib\\site-packages (from tensorboard~=2.6->tensorflow<3,>=2.1.0->tensorflowjs) (0.4.1)\n",
      "Requirement already satisfied: tensorboard-data-server<0.7.0,>=0.6.0 in c:\\users\\hp\\miniconda3\\envs\\gpu2.6\\lib\\site-packages (from tensorboard~=2.6->tensorflow<3,>=2.1.0->tensorflowjs) (0.6.0)\n",
      "Requirement already satisfied: setuptools>=41.0.0 in c:\\users\\hp\\miniconda3\\envs\\gpu2.6\\lib\\site-packages (from tensorboard~=2.6->tensorflow<3,>=2.1.0->tensorflowjs) (61.2.0)\n",
      "Requirement already satisfied: werkzeug>=0.11.15 in c:\\users\\hp\\miniconda3\\envs\\gpu2.6\\lib\\site-packages (from tensorboard~=2.6->tensorflow<3,>=2.1.0->tensorflowjs) (2.0.3)\n",
      "Collecting google-auth<2,>=1.6.3\n",
      "  Downloading google_auth-1.35.0-py2.py3-none-any.whl (152 kB)\n",
      "     ---------------------------------------- 152.9/152.9 kB ? eta 0:00:00\n",
      "Requirement already satisfied: markdown>=2.6.8 in c:\\users\\hp\\miniconda3\\envs\\gpu2.6\\lib\\site-packages (from tensorboard~=2.6->tensorflow<3,>=2.1.0->tensorflowjs) (3.3.4)\n",
      "Requirement already satisfied: tensorboard-plugin-wit>=1.6.0 in c:\\users\\hp\\miniconda3\\envs\\gpu2.6\\lib\\site-packages (from tensorboard~=2.6->tensorflow<3,>=2.1.0->tensorflowjs) (1.6.0)\n",
      "Requirement already satisfied: requests<3,>=2.21.0 in c:\\users\\hp\\miniconda3\\envs\\gpu2.6\\lib\\site-packages (from tensorboard~=2.6->tensorflow<3,>=2.1.0->tensorflowjs) (2.27.1)\n",
      "Requirement already satisfied: rsa<5,>=3.1.4 in c:\\users\\hp\\miniconda3\\envs\\gpu2.6\\lib\\site-packages (from google-auth<2,>=1.6.3->tensorboard~=2.6->tensorflow<3,>=2.1.0->tensorflowjs) (4.7.2)\n",
      "Requirement already satisfied: cachetools<5.0,>=2.0.0 in c:\\users\\hp\\miniconda3\\envs\\gpu2.6\\lib\\site-packages (from google-auth<2,>=1.6.3->tensorboard~=2.6->tensorflow<3,>=2.1.0->tensorflowjs) (4.2.2)\n",
      "Requirement already satisfied: pyasn1-modules>=0.2.1 in c:\\users\\hp\\miniconda3\\envs\\gpu2.6\\lib\\site-packages (from google-auth<2,>=1.6.3->tensorboard~=2.6->tensorflow<3,>=2.1.0->tensorflowjs) (0.2.8)\n",
      "Requirement already satisfied: requests-oauthlib>=0.7.0 in c:\\users\\hp\\miniconda3\\envs\\gpu2.6\\lib\\site-packages (from google-auth-oauthlib<0.5,>=0.4.1->tensorboard~=2.6->tensorflow<3,>=2.1.0->tensorflowjs) (1.3.0)\n",
      "Requirement already satisfied: importlib-metadata in c:\\users\\hp\\miniconda3\\envs\\gpu2.6\\lib\\site-packages (from markdown>=2.6.8->tensorboard~=2.6->tensorflow<3,>=2.1.0->tensorflowjs) (4.11.3)\n",
      "Requirement already satisfied: urllib3<1.27,>=1.21.1 in c:\\users\\hp\\miniconda3\\envs\\gpu2.6\\lib\\site-packages (from requests<3,>=2.21.0->tensorboard~=2.6->tensorflow<3,>=2.1.0->tensorflowjs) (1.26.9)\n",
      "Requirement already satisfied: idna<4,>=2.5 in c:\\users\\hp\\miniconda3\\envs\\gpu2.6\\lib\\site-packages (from requests<3,>=2.21.0->tensorboard~=2.6->tensorflow<3,>=2.1.0->tensorflowjs) (3.3)\n",
      "Requirement already satisfied: certifi>=2017.4.17 in c:\\users\\hp\\miniconda3\\envs\\gpu2.6\\lib\\site-packages (from requests<3,>=2.21.0->tensorboard~=2.6->tensorflow<3,>=2.1.0->tensorflowjs) (2022.6.15)\n",
      "Requirement already satisfied: charset-normalizer~=2.0.0 in c:\\users\\hp\\miniconda3\\envs\\gpu2.6\\lib\\site-packages (from requests<3,>=2.21.0->tensorboard~=2.6->tensorflow<3,>=2.1.0->tensorflowjs) (2.0.4)\n",
      "Requirement already satisfied: pyasn1<0.5.0,>=0.4.6 in c:\\users\\hp\\miniconda3\\envs\\gpu2.6\\lib\\site-packages (from pyasn1-modules>=0.2.1->google-auth<2,>=1.6.3->tensorboard~=2.6->tensorflow<3,>=2.1.0->tensorflowjs) (0.4.8)\n",
      "Requirement already satisfied: oauthlib>=3.0.0 in c:\\users\\hp\\miniconda3\\envs\\gpu2.6\\lib\\site-packages (from requests-oauthlib>=0.7.0->google-auth-oauthlib<0.5,>=0.4.1->tensorboard~=2.6->tensorflow<3,>=2.1.0->tensorflowjs) (3.1.0)\n",
      "Requirement already satisfied: zipp>=0.5 in c:\\users\\hp\\miniconda3\\envs\\gpu2.6\\lib\\site-packages (from importlib-metadata->markdown>=2.6.8->tensorboard~=2.6->tensorflow<3,>=2.1.0->tensorflowjs) (3.8.0)\n",
      "Building wheels for collected packages: clang\n",
      "  Building wheel for clang (setup.py): started\n",
      "  Building wheel for clang (setup.py): finished with status 'done'\n",
      "  Created wheel for clang: filename=clang-5.0-py3-none-any.whl size=30701 sha256=3f97b4d800dba8fc1c76fcbd553becdf2a70eb0c6055e1e6226b4ac08c4e48f3\n",
      "  Stored in directory: c:\\users\\hp\\appdata\\local\\pip\\cache\\wheels\\98\\91\\04\\971b4c587cf47ae952b108949b46926f426c02832d120a082a\n",
      "Successfully built clang\n",
      "Installing collected packages: flatbuffers, clang, packaging, tensorflow-hub, google-auth, tensorflowjs\n",
      "  Attempting uninstall: flatbuffers\n",
      "    Found existing installation: flatbuffers 20210226132247\n",
      "    Uninstalling flatbuffers-20210226132247:\n",
      "      Successfully uninstalled flatbuffers-20210226132247\n",
      "  Attempting uninstall: packaging\n",
      "    Found existing installation: packaging 21.3\n",
      "    Uninstalling packaging-21.3:\n",
      "      Successfully uninstalled packaging-21.3\n",
      "  Attempting uninstall: google-auth\n",
      "    Found existing installation: google-auth 2.6.0\n",
      "    Uninstalling google-auth-2.6.0:\n",
      "      Successfully uninstalled google-auth-2.6.0\n",
      "Successfully installed clang-5.0 flatbuffers-1.12 google-auth-1.35.0 packaging-20.9 tensorflow-hub-0.12.0 tensorflowjs-3.18.0\n"
     ]
    }
   ],
   "source": [
    "!pip install tensorflowjs"
   ],
   "metadata": {
    "collapsed": false,
    "pycharm": {
     "name": "#%%\n"
    }
   }
  },
  {
   "cell_type": "code",
   "execution_count": 3,
   "outputs": [],
   "source": [
    "!tensorflowjs_converter --input_format keras C:\\Users\\HP\\Documents\\GitHub\\TIL\\TensorFlow\\model_VGG.h5 C:\\Users\\HP\\Documents\\GitHub\\TIL\\TensorFlow\\js"
   ],
   "metadata": {
    "collapsed": false,
    "pycharm": {
     "name": "#%%\n"
    }
   }
  },
  {
   "cell_type": "code",
   "execution_count": null,
   "outputs": [],
   "source": [],
   "metadata": {
    "collapsed": false,
    "pycharm": {
     "name": "#%%\n"
    }
   }
  }
 ],
 "metadata": {
  "kernelspec": {
   "display_name": "Python 3",
   "language": "python",
   "name": "python3"
  },
  "language_info": {
   "codemirror_mode": {
    "name": "ipython",
    "version": 2
   },
   "file_extension": ".py",
   "mimetype": "text/x-python",
   "name": "python",
   "nbconvert_exporter": "python",
   "pygments_lexer": "ipython2",
   "version": "2.7.6"
  }
 },
 "nbformat": 4,
 "nbformat_minor": 0
}